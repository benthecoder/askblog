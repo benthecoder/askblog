{
 "cells": [
  {
   "cell_type": "code",
   "execution_count": 2,
   "id": "9cb918bd-099c-4e13-91af-95df8406ea7d",
   "metadata": {},
   "outputs": [
    {
     "name": "stdout",
     "output_type": "stream",
     "text": [
      "Note: you may need to restart the kernel to use updated packages.\n"
     ]
    }
   ],
   "source": [
    "%pip install --upgrade --quiet  langchain langchain-community langchainhub langchain-openai chromadb bs4"
   ]
  },
  {
   "cell_type": "code",
   "execution_count": 3,
   "id": "b4c7fe5b",
   "metadata": {},
   "outputs": [],
   "source": [
    "import openai\n",
    "\n",
    "openai.api_key = \"<YOUR_OPENAI_KEY>\""
   ]
  },
  {
   "cell_type": "markdown",
   "id": "89dcecea",
   "metadata": {},
   "source": [
    "## load\n",
    "\n",
    "First we have to scrape the text.\n",
    "\n",
    "We use requests to get the text, and Beautiful Soup to gather the content.\n",
    "\n",
    "For my blog, my posts the `<a>` tags so I use find_all() to filter them out.\n",
    "\n",
    "Your website might have a different HTML structure, so you might need to spend some time for BeautifulSoup to get the right thing. Pro tip: use ChatGPT to help you here.\n",
    "\n",
    "Then, a list comprehension to gather all the links that direct to my posts.\n"
   ]
  },
  {
   "cell_type": "code",
   "execution_count": 4,
   "id": "734a5883",
   "metadata": {},
   "outputs": [
    {
     "data": {
      "text/plain": [
       "['https://bneo.xyz/posts/1yearreview',\n",
       " 'https://bneo.xyz/posts/michaelhan',\n",
       " 'https://bneo.xyz/posts/selfjudgement',\n",
       " 'https://bneo.xyz/posts/community',\n",
       " 'https://bneo.xyz/posts/naval',\n",
       " 'https://bneo.xyz/posts/goodconvos',\n",
       " 'https://bneo.xyz/posts/artofgather',\n",
       " 'https://bneo.xyz/posts/5qsclimate',\n",
       " 'https://bneo.xyz/posts/climate',\n",
       " 'https://bneo.xyz/posts/edwardmunch',\n",
       " 'https://bneo.xyz/posts/proustquestions',\n",
       " 'https://bneo.xyz/posts/webdev',\n",
       " 'https://bneo.xyz/posts/joandidion',\n",
       " 'https://bneo.xyz/posts/workdoc',\n",
       " 'https://bneo.xyz/posts/donelist',\n",
       " 'https://bneo.xyz/posts/pmarca-career',\n",
       " 'https://bneo.xyz/posts/310324',\n",
       " 'https://bneo.xyz/posts/typeIIfun',\n",
       " 'https://bneo.xyz/posts/lowfocus',\n",
       " 'https://bneo.xyz/posts/beautyofbooks',\n",
       " 'https://bneo.xyz/posts/4hours',\n",
       " 'https://bneo.xyz/posts/lookart',\n",
       " 'https://bneo.xyz/posts/o1',\n",
       " 'https://bneo.xyz/posts/truefriendship',\n",
       " 'https://bneo.xyz/posts/origincreation',\n",
       " 'https://bneo.xyz/posts/solarstorms',\n",
       " 'https://bneo.xyz/posts/shortsentences',\n",
       " 'https://bneo.xyz/posts/calnewport',\n",
       " 'https://bneo.xyz/posts/knownothing',\n",
       " 'https://bneo.xyz/posts/1700articles',\n",
       " 'https://bneo.xyz/posts/jesper',\n",
       " 'https://bneo.xyz/posts/stripeletter23',\n",
       " 'https://bneo.xyz/posts/photographyinpenang',\n",
       " 'https://bneo.xyz/posts/earlyindicator',\n",
       " 'https://bneo.xyz/posts/8artist',\n",
       " 'https://bneo.xyz/posts/daido',\n",
       " 'https://bneo.xyz/posts/expectations',\n",
       " 'https://bneo.xyz/posts/12problems',\n",
       " 'https://bneo.xyz/posts/healthyrelationships',\n",
       " 'https://bneo.xyz/posts/listen',\n",
       " 'https://bneo.xyz/posts/fujifilm',\n",
       " 'https://bneo.xyz/posts/purpose',\n",
       " 'https://bneo.xyz/posts/050324',\n",
       " 'https://bneo.xyz/posts/renewal',\n",
       " 'https://bneo.xyz/posts/curseddreams',\n",
       " 'https://bneo.xyz/posts/surgeryday2',\n",
       " 'https://bneo.xyz/posts/surgeryday',\n",
       " 'https://bneo.xyz/posts/nightbefore',\n",
       " 'https://bneo.xyz/posts/for-fun',\n",
       " 'https://bneo.xyz/posts/usfinterview',\n",
       " 'https://bneo.xyz/posts/average',\n",
       " 'https://bneo.xyz/posts/commonplacebook',\n",
       " 'https://bneo.xyz/posts/022424',\n",
       " 'https://bneo.xyz/posts/apology',\n",
       " 'https://bneo.xyz/posts/finitude',\n",
       " 'https://bneo.xyz/posts/healthymind',\n",
       " 'https://bneo.xyz/posts/braces',\n",
       " 'https://bneo.xyz/posts/present',\n",
       " 'https://bneo.xyz/posts/littlejoys',\n",
       " 'https://bneo.xyz/posts/feelgood',\n",
       " 'https://bneo.xyz/posts/0to1',\n",
       " 'https://bneo.xyz/posts/4motives',\n",
       " 'https://bneo.xyz/posts/malaysia',\n",
       " 'https://bneo.xyz/posts/stillness',\n",
       " 'https://bneo.xyz/posts/understanding',\n",
       " 'https://bneo.xyz/posts/burnoutsociety',\n",
       " 'https://bneo.xyz/posts/booksummary',\n",
       " 'https://bneo.xyz/posts/rilkeletters',\n",
       " 'https://bneo.xyz/posts/videos',\n",
       " 'https://bneo.xyz/posts/3things',\n",
       " 'https://bneo.xyz/posts/culturelies',\n",
       " 'https://bneo.xyz/posts/extremebrainstorming',\n",
       " 'https://bneo.xyz/posts/goodmeeting',\n",
       " 'https://bneo.xyz/posts/neverendingnow',\n",
       " 'https://bneo.xyz/posts/mostwont',\n",
       " 'https://bneo.xyz/posts/elementsofstyle',\n",
       " 'https://bneo.xyz/posts/meaning',\n",
       " 'https://bneo.xyz/posts/8teeth',\n",
       " 'https://bneo.xyz/posts/opinions',\n",
       " 'https://bneo.xyz/posts/heroku',\n",
       " 'https://bneo.xyz/posts/kindness',\n",
       " 'https://bneo.xyz/posts/music-emotion',\n",
       " 'https://bneo.xyz/posts/ghg',\n",
       " 'https://bneo.xyz/posts/negativeemotions',\n",
       " 'https://bneo.xyz/posts/joy',\n",
       " 'https://bneo.xyz/posts/alone',\n",
       " 'https://bneo.xyz/posts/couldbe',\n",
       " 'https://bneo.xyz/posts/worthy',\n",
       " 'https://bneo.xyz/posts/endoscope',\n",
       " 'https://bneo.xyz/posts/lucksurfacearea',\n",
       " 'https://bneo.xyz/posts/art',\n",
       " 'https://bneo.xyz/posts/understand',\n",
       " 'https://bneo.xyz/posts/reading',\n",
       " 'https://bneo.xyz/posts/thingsdone',\n",
       " 'https://bneo.xyz/posts/defensemechanism',\n",
       " 'https://bneo.xyz/posts/stressenhance',\n",
       " 'https://bneo.xyz/posts/cure',\n",
       " 'https://bneo.xyz/posts/ask',\n",
       " 'https://bneo.xyz/posts/onwriting',\n",
       " 'https://bneo.xyz/posts/creativeways',\n",
       " 'https://bneo.xyz/posts/proust',\n",
       " 'https://bneo.xyz/posts/backhome',\n",
       " 'https://bneo.xyz/posts/swifttour',\n",
       " 'https://bneo.xyz/posts/stories',\n",
       " 'https://bneo.xyz/posts/focus',\n",
       " 'https://bneo.xyz/posts/learning-programmers',\n",
       " 'https://bneo.xyz/posts/learncode',\n",
       " 'https://bneo.xyz/posts/2023',\n",
       " 'https://bneo.xyz/posts/swift',\n",
       " 'https://bneo.xyz/posts/hacker',\n",
       " 'https://bneo.xyz/posts/muji',\n",
       " 'https://bneo.xyz/posts/admire',\n",
       " 'https://bneo.xyz/posts/ios',\n",
       " 'https://bneo.xyz/posts/christmas-seattle',\n",
       " 'https://bneo.xyz/posts/designbooks',\n",
       " 'https://bneo.xyz/posts/secondorder',\n",
       " 'https://bneo.xyz/posts/advice-programmers',\n",
       " 'https://bneo.xyz/posts/gardening',\n",
       " 'https://bneo.xyz/posts/friendshipforces',\n",
       " 'https://bneo.xyz/posts/gifts',\n",
       " 'https://bneo.xyz/posts/taste-skill',\n",
       " 'https://bneo.xyz/posts/gradadvice',\n",
       " 'https://bneo.xyz/posts/isu',\n",
       " 'https://bneo.xyz/posts/convocation',\n",
       " 'https://bneo.xyz/posts/isuclasses',\n",
       " 'https://bneo.xyz/posts/statistics',\n",
       " 'https://bneo.xyz/posts/smart-happy',\n",
       " 'https://bneo.xyz/posts/play-streets',\n",
       " 'https://bneo.xyz/posts/art-therapy',\n",
       " 'https://bneo.xyz/posts/taste',\n",
       " 'https://bneo.xyz/posts/lifelearnings',\n",
       " 'https://bneo.xyz/posts/meetup',\n",
       " 'https://bneo.xyz/posts/optimism',\n",
       " 'https://bneo.xyz/posts/start-nothing',\n",
       " 'https://bneo.xyz/posts/feedback',\n",
       " 'https://bneo.xyz/posts/speed',\n",
       " 'https://bneo.xyz/posts/interviewqs',\n",
       " 'https://bneo.xyz/posts/build',\n",
       " 'https://bneo.xyz/posts/tweaks',\n",
       " 'https://bneo.xyz/posts/readpaper',\n",
       " 'https://bneo.xyz/posts/reminders-coding',\n",
       " 'https://bneo.xyz/posts/llm-intro',\n",
       " 'https://bneo.xyz/posts/money-fun-good',\n",
       " 'https://bneo.xyz/posts/relax',\n",
       " 'https://bneo.xyz/posts/books-freedom',\n",
       " 'https://bneo.xyz/posts/success-mindset',\n",
       " 'https://bneo.xyz/posts/boston-d3',\n",
       " 'https://bneo.xyz/posts/boston-d2',\n",
       " 'https://bneo.xyz/posts/boston-d1',\n",
       " 'https://bneo.xyz/posts/economists-insta',\n",
       " 'https://bneo.xyz/posts/boredom',\n",
       " 'https://bneo.xyz/posts/thinking-hard',\n",
       " 'https://bneo.xyz/posts/spatial',\n",
       " 'https://bneo.xyz/posts/linalg',\n",
       " 'https://bneo.xyz/posts/idea',\n",
       " 'https://bneo.xyz/posts/gitbranch',\n",
       " 'https://bneo.xyz/posts/career-advice',\n",
       " 'https://bneo.xyz/posts/good-design',\n",
       " 'https://bneo.xyz/posts/ml-guide',\n",
       " 'https://bneo.xyz/posts/clean-code',\n",
       " 'https://bneo.xyz/posts/swe-habits',\n",
       " 'https://bneo.xyz/posts/self-concept',\n",
       " 'https://bneo.xyz/posts/kalman-filter',\n",
       " 'https://bneo.xyz/posts/elon-thiel',\n",
       " 'https://bneo.xyz/posts/garry-advice.md',\n",
       " 'https://bneo.xyz/posts/ai-jobs',\n",
       " 'https://bneo.xyz/posts/catboost',\n",
       " 'https://bneo.xyz/posts/painful-qs',\n",
       " 'https://bneo.xyz/posts/mentahealth',\n",
       " 'https://bneo.xyz/posts/ai-tools',\n",
       " 'https://bneo.xyz/posts/psalms23',\n",
       " 'https://bneo.xyz/posts/22',\n",
       " 'https://bneo.xyz/posts/senior-swe',\n",
       " 'https://bneo.xyz/posts/ukiyo-e',\n",
       " 'https://bneo.xyz/posts/7q',\n",
       " 'https://bneo.xyz/posts/cost-per-use',\n",
       " 'https://bneo.xyz/posts/sop',\n",
       " 'https://bneo.xyz/posts/design-develop',\n",
       " 'https://bneo.xyz/posts/apps',\n",
       " 'https://bneo.xyz/posts/steal-code',\n",
       " 'https://bneo.xyz/posts/procrastination',\n",
       " 'https://bneo.xyz/posts/greatwork',\n",
       " 'https://bneo.xyz/posts/testing',\n",
       " 'https://bneo.xyz/posts/codemate',\n",
       " 'https://bneo.xyz/posts/mentalhealth',\n",
       " 'https://bneo.xyz/posts/songwriting',\n",
       " 'https://bneo.xyz/posts/saas',\n",
       " 'https://bneo.xyz/posts/plastic',\n",
       " 'https://bneo.xyz/posts/why-yc',\n",
       " 'https://bneo.xyz/posts/aiengineer',\n",
       " 'https://bneo.xyz/posts/mle',\n",
       " 'https://bneo.xyz/posts/work-better',\n",
       " 'https://bneo.xyz/posts/yc-interview',\n",
       " 'https://bneo.xyz/posts/mononoke',\n",
       " 'https://bneo.xyz/posts/climate-tech',\n",
       " 'https://bneo.xyz/posts/death',\n",
       " 'https://bneo.xyz/posts/hemmingway',\n",
       " 'https://bneo.xyz/posts/fail',\n",
       " 'https://bneo.xyz/posts/compression',\n",
       " 'https://bneo.xyz/posts/notes',\n",
       " 'https://bneo.xyz/posts/monitoring',\n",
       " 'https://bneo.xyz/posts/code-pr',\n",
       " 'https://bneo.xyz/posts/karun',\n",
       " 'https://bneo.xyz/posts/grad-school',\n",
       " 'https://bneo.xyz/posts/writing-habit',\n",
       " 'https://bneo.xyz/posts/mentee',\n",
       " 'https://bneo.xyz/posts/dbt',\n",
       " 'https://bneo.xyz/posts/discounting',\n",
       " 'https://bneo.xyz/posts/sun-also-rises',\n",
       " 'https://bneo.xyz/posts/airflow-conf-2',\n",
       " 'https://bneo.xyz/posts/airflow-conf',\n",
       " 'https://bneo.xyz/posts/toronto',\n",
       " 'https://bneo.xyz/posts/read',\n",
       " 'https://bneo.xyz/posts/joeltest',\n",
       " 'https://bneo.xyz/posts/pitch',\n",
       " 'https://bneo.xyz/posts/success',\n",
       " 'https://bneo.xyz/posts/ma',\n",
       " 'https://bneo.xyz/posts/lifelog',\n",
       " 'https://bneo.xyz/posts/learn-write',\n",
       " 'https://bneo.xyz/posts/reading-rules',\n",
       " 'https://bneo.xyz/posts/get-things-done',\n",
       " 'https://bneo.xyz/posts/market-size',\n",
       " 'https://bneo.xyz/posts/growth',\n",
       " 'https://bneo.xyz/posts/engine',\n",
       " 'https://bneo.xyz/posts/akrasia',\n",
       " 'https://bneo.xyz/posts/apophenia',\n",
       " 'https://bneo.xyz/posts/luck',\n",
       " 'https://bneo.xyz/posts/90-9-1',\n",
       " 'https://bneo.xyz/posts/goal',\n",
       " 'https://bneo.xyz/posts/problems',\n",
       " 'https://bneo.xyz/posts/ideas',\n",
       " 'https://bneo.xyz/posts/motivation',\n",
       " 'https://bneo.xyz/posts/papers',\n",
       " 'https://bneo.xyz/posts/gut',\n",
       " 'https://bneo.xyz/posts/gpu',\n",
       " 'https://bneo.xyz/posts/home',\n",
       " 'https://bneo.xyz/posts/code-search',\n",
       " 'https://bneo.xyz/posts/meats',\n",
       " 'https://bneo.xyz/posts/xyproblem',\n",
       " 'https://bneo.xyz/posts/groceries',\n",
       " 'https://bneo.xyz/posts/heartbreak',\n",
       " 'https://bneo.xyz/posts/love',\n",
       " 'https://bneo.xyz/posts/bowling',\n",
       " 'https://bneo.xyz/posts/checklist',\n",
       " 'https://bneo.xyz/posts/ox9',\n",
       " 'https://bneo.xyz/posts/repetition',\n",
       " 'https://bneo.xyz/posts/gratitude',\n",
       " 'https://bneo.xyz/posts/volleyball',\n",
       " 'https://bneo.xyz/posts/alcatraz',\n",
       " 'https://bneo.xyz/posts/effort',\n",
       " 'https://bneo.xyz/posts/stress',\n",
       " 'https://bneo.xyz/posts/great-questions',\n",
       " 'https://bneo.xyz/posts/hardwork',\n",
       " 'https://bneo.xyz/posts/hard_problems',\n",
       " 'https://bneo.xyz/posts/money_church',\n",
       " 'https://bneo.xyz/posts/deyoung',\n",
       " 'https://bneo.xyz/posts/so2',\n",
       " 'https://bneo.xyz/posts/notion',\n",
       " 'https://bneo.xyz/posts/stuck',\n",
       " 'https://bneo.xyz/posts/showcase',\n",
       " 'https://bneo.xyz/posts/editing',\n",
       " 'https://bneo.xyz/posts/anthropic2',\n",
       " 'https://bneo.xyz/posts/anthropic',\n",
       " 'https://bneo.xyz/posts/oppenheimer',\n",
       " 'https://bneo.xyz/posts/flow',\n",
       " 'https://bneo.xyz/posts/superconductor',\n",
       " 'https://bneo.xyz/posts/impact-bias',\n",
       " 'https://bneo.xyz/posts/asymmetric',\n",
       " 'https://bneo.xyz/posts/copy',\n",
       " 'https://bneo.xyz/posts/agihouse',\n",
       " 'https://bneo.xyz/posts/action',\n",
       " 'https://bneo.xyz/posts/psyop',\n",
       " 'https://bneo.xyz/posts/advanced-python',\n",
       " 'https://bneo.xyz/posts/research',\n",
       " 'https://bneo.xyz/posts/dropbox',\n",
       " 'https://bneo.xyz/posts/inaction',\n",
       " 'https://bneo.xyz/posts/hackathon',\n",
       " 'https://bneo.xyz/posts/helplessness',\n",
       " 'https://bneo.xyz/posts/good-day',\n",
       " 'https://bneo.xyz/posts/influential',\n",
       " 'https://bneo.xyz/posts/learning',\n",
       " 'https://bneo.xyz/posts/unlearning',\n",
       " 'https://bneo.xyz/posts/cpp-advice',\n",
       " 'https://bneo.xyz/posts/muirwoods',\n",
       " 'https://bneo.xyz/posts/ai-engineer',\n",
       " 'https://bneo.xyz/posts/charlie',\n",
       " 'https://bneo.xyz/posts/python',\n",
       " 'https://bneo.xyz/posts/fireworks',\n",
       " 'https://bneo.xyz/posts/llm-challenges',\n",
       " 'https://bneo.xyz/posts/victim-survivor',\n",
       " 'https://bneo.xyz/posts/happy-life',\n",
       " 'https://bneo.xyz/posts/misinformation',\n",
       " 'https://bneo.xyz/posts/airflow',\n",
       " 'https://bneo.xyz/posts/python-logs',\n",
       " 'https://bneo.xyz/posts/sf-meetup',\n",
       " 'https://bneo.xyz/posts/launch',\n",
       " 'https://bneo.xyz/posts/pendulum',\n",
       " 'https://bneo.xyz/posts/casino-facts',\n",
       " 'https://bneo.xyz/posts/party2',\n",
       " 'https://bneo.xyz/posts/questions',\n",
       " 'https://bneo.xyz/posts/wander',\n",
       " 'https://bneo.xyz/posts/emotion-myth',\n",
       " 'https://bneo.xyz/posts/burnout',\n",
       " 'https://bneo.xyz/posts/startup-lesson',\n",
       " 'https://bneo.xyz/posts/yc-23',\n",
       " 'https://bneo.xyz/posts/design-fail',\n",
       " 'https://bneo.xyz/posts/humor',\n",
       " 'https://bneo.xyz/posts/idea-maze',\n",
       " 'https://bneo.xyz/posts/kpop',\n",
       " 'https://bneo.xyz/posts/programming-lessons',\n",
       " 'https://bneo.xyz/posts/life-proverb',\n",
       " 'https://bneo.xyz/posts/noise',\n",
       " 'https://bneo.xyz/posts/genius',\n",
       " 'https://bneo.xyz/posts/36',\n",
       " 'https://bneo.xyz/posts/foodwaste',\n",
       " 'https://bneo.xyz/posts/change',\n",
       " 'https://bneo.xyz/posts/conversations',\n",
       " 'https://bneo.xyz/posts/golden-gate',\n",
       " 'https://bneo.xyz/posts/monterey',\n",
       " 'https://bneo.xyz/posts/regret',\n",
       " 'https://bneo.xyz/posts/life',\n",
       " 'https://bneo.xyz/posts/scar-tissue',\n",
       " 'https://bneo.xyz/posts/notice',\n",
       " 'https://bneo.xyz/posts/chinatown',\n",
       " 'https://bneo.xyz/posts/yosemite-hike',\n",
       " 'https://bneo.xyz/posts/yosemite',\n",
       " 'https://bneo.xyz/posts/pareto',\n",
       " 'https://bneo.xyz/posts/feeling',\n",
       " 'https://bneo.xyz/posts/adventure',\n",
       " 'https://bneo.xyz/posts/kevin',\n",
       " 'https://bneo.xyz/posts/work',\n",
       " 'https://bneo.xyz/posts/friend',\n",
       " 'https://bneo.xyz/posts/party',\n",
       " 'https://bneo.xyz/posts/strangers',\n",
       " 'https://bneo.xyz/posts/host',\n",
       " 'https://bneo.xyz/posts/internship',\n",
       " 'https://bneo.xyz/posts/property',\n",
       " 'https://bneo.xyz/posts/golf',\n",
       " 'https://bneo.xyz/posts/fbeta',\n",
       " 'https://bneo.xyz/posts/flight',\n",
       " 'https://bneo.xyz/posts/sins',\n",
       " 'https://bneo.xyz/posts/stefan',\n",
       " 'https://bneo.xyz/posts/exams',\n",
       " 'https://bneo.xyz/posts/bayesian',\n",
       " 'https://bneo.xyz/posts/gospels',\n",
       " 'https://bneo.xyz/posts/film',\n",
       " 'https://bneo.xyz/posts/stroop',\n",
       " 'https://bneo.xyz/posts/3',\n",
       " 'https://bneo.xyz/posts/goals',\n",
       " 'https://bneo.xyz/posts/happiness',\n",
       " 'https://bneo.xyz/posts/brief',\n",
       " 'https://bneo.xyz/posts/20h',\n",
       " 'https://bneo.xyz/posts/articulate',\n",
       " 'https://bneo.xyz/posts/doordash-genai',\n",
       " 'https://bneo.xyz/posts/85',\n",
       " 'https://bneo.xyz/posts/synthesize',\n",
       " 'https://bneo.xyz/posts/information',\n",
       " 'https://bneo.xyz/posts/blocks',\n",
       " 'https://bneo.xyz/posts/comparison',\n",
       " 'https://bneo.xyz/posts/fear',\n",
       " 'https://bneo.xyz/posts/conversation',\n",
       " 'https://bneo.xyz/posts/resilience',\n",
       " 'https://bneo.xyz/posts/emotion-physics',\n",
       " 'https://bneo.xyz/posts/hardships',\n",
       " 'https://bneo.xyz/posts/making-friends',\n",
       " 'https://bneo.xyz/posts/ai-aging',\n",
       " 'https://bneo.xyz/posts/day-one']"
      ]
     },
     "execution_count": 4,
     "metadata": {},
     "output_type": "execute_result"
    }
   ],
   "source": [
    "import requests\n",
    "import bs4\n",
    "from bs4 import BeautifulSoup\n",
    "import re\n",
    "\n",
    "url = \"https://bneo.xyz/posts\"\n",
    "\n",
    "response = requests.get(url)\n",
    "soup = BeautifulSoup(response.content, \"html.parser\")\n",
    "\n",
    "article_links = soup.find_all(\"a\", href=re.compile(\"posts/\"))  # find all a tags\n",
    "relative_urls = [link[\"href\"] for link in article_links if link[\"href\"].startswith(\"/\")]\n",
    "\n",
    "urls = [f\"https://bneo.xyz{relative_url}\" for relative_url in relative_urls]\n",
    "urls"
   ]
  },
  {
   "cell_type": "code",
   "execution_count": 5,
   "id": "630cead3",
   "metadata": {},
   "outputs": [
    {
     "data": {
      "text/plain": [
       "367"
      ]
     },
     "execution_count": 5,
     "metadata": {},
     "output_type": "execute_result"
    }
   ],
   "source": [
    "len(urls)"
   ]
  },
  {
   "cell_type": "code",
   "execution_count": 6,
   "id": "43254cb3",
   "metadata": {},
   "outputs": [
    {
     "name": "stdout",
     "output_type": "stream",
     "text": [
      "367 documents loaded\n"
     ]
    }
   ],
   "source": [
    "from langchain_community.document_loaders import WebBaseLoader\n",
    "\n",
    "loader = WebBaseLoader(\n",
    "    web_paths=urls,\n",
    "    bs_kwargs=dict(parse_only=bs4.SoupStrainer(\"main\")),  # only elements in main tag\n",
    ")\n",
    "\n",
    "docs = loader.load()\n",
    "\n",
    "print(f\"{len(docs)} documents loaded\")"
   ]
  },
  {
   "cell_type": "code",
   "execution_count": 7,
   "id": "48c544c6",
   "metadata": {},
   "outputs": [
    {
     "name": "stdout",
     "output_type": "stream",
     "text": [
      "1 Year of BloggingClaude Monet, Shadows on the Sea. The Cliffs at Pourville, 1882\n",
      "Exactly a year ago I started blogging everyday.\n",
      "These blogs are mostly good ideas that I discover online that I want to compartmentalize and steal for myself, and collect them here in my own corner of the internet so I can revisit them from time to time.\n",
      "As for my reflective and introspective writings, they're an attempt to document my life and for making sense of my thoughts.\n",
      "\n",
      "“Write hard and clear about what hurt\n"
     ]
    }
   ],
   "source": [
    "print(docs[0].page_content[:500])"
   ]
  },
  {
   "cell_type": "code",
   "execution_count": 8,
   "id": "20bfadcb",
   "metadata": {},
   "outputs": [
    {
     "name": "stdout",
     "output_type": "stream",
     "text": [
      "924688\n"
     ]
    }
   ],
   "source": [
    "print(sum(len(doc.page_content) for doc in docs))"
   ]
  },
  {
   "cell_type": "markdown",
   "id": "c5c881de",
   "metadata": {},
   "source": [
    "## split\n"
   ]
  },
  {
   "cell_type": "code",
   "execution_count": 9,
   "id": "de413843",
   "metadata": {},
   "outputs": [],
   "source": [
    "from langchain.text_splitter import RecursiveCharacterTextSplitter\n",
    "\n",
    "\n",
    "text_splitter = RecursiveCharacterTextSplitter(\n",
    "    chunk_size=1000, chunk_overlap=200, add_start_index=True\n",
    ")\n",
    "splits = text_splitter.split_documents(docs)"
   ]
  },
  {
   "cell_type": "code",
   "execution_count": 10,
   "id": "64f537d9",
   "metadata": {},
   "outputs": [
    {
     "data": {
      "text/plain": [
       "1376"
      ]
     },
     "execution_count": 10,
     "metadata": {},
     "output_type": "execute_result"
    }
   ],
   "source": [
    "len(splits)"
   ]
  },
  {
   "cell_type": "code",
   "execution_count": 11,
   "id": "17dc2ccf",
   "metadata": {},
   "outputs": [
    {
     "name": "stdout",
     "output_type": "stream",
     "text": [
      "[Document(page_content=\"1 Year of BloggingClaude Monet, Shadows on the Sea. The Cliffs at Pourville, 1882\\nExactly a year ago I started blogging everyday.\\nThese blogs are mostly good ideas that I discover online that I want to compartmentalize and steal for myself, and collect them here in my own corner of the internet so I can revisit them from time to time.\\nAs for my reflective and introspective writings, they're an attempt to document my life and for making sense of my thoughts.\\n\\n“Write hard and clear about what hurts. ― Ernest Hemingway\\n\\nReading back my journal entries in this blog is almost like time travelling. I'm visiting different versions of my past selves, unpacking and resurfacing all their thoughts, ambitions, sufferings, fears, anxiety, and emotions.\\nSome I've conquered, some I still harbor, but it's comforting to see growth and change happen. I'm optimistic for April 16, 2025: the kind of person I'll become and the people that will be in my life in SF.\", metadata={'source': 'https://bneo.xyz/posts/1yearreview', 'start_index': 0}),\n",
      " Document(page_content=\"Since it's been a year, I decided to distill some thoughts about my motivations for writing this blog below:\", metadata={'source': 'https://bneo.xyz/posts/1yearreview', 'start_index': 958}),\n",
      " Document(page_content=\"To think clearly and communicate better\\nTo understand myself better\\nTo learn and understand things better (Feynman technique)\\nTo force myself to learn and research about a topic\\nTo curate and resurface good ideas\\nTo create listicles for myself and others\\nSatisfy mimetic desire of other people having their own blogs and writings\\nTo improve the craft of writing well and developing my own style\\nTo share life updates and ideas to friends\\nCommit to the daily habit of writing\\nSo I can go to bed in peace (so I don’t break the streak)\\nTo have an online presence\\nTo find other people who think like me\\nTo get better at Next.js and Tailwind CSS (better at promoting AI at least)\\nTo increase my surface area of luck\\nAn excuse to curate and discover good art\\nAn attempt to generate new ideas from existing ones\\nTo filter and extract out advice and insights from the books I read\\nTo invite other people to reach out\\n\\n\\nI've also collected a few resources for people to get started.\\nWhy write\", metadata={'source': 'https://bneo.xyz/posts/1yearreview', 'start_index': 1068}),\n",
      " Document(page_content=\"I've also collected a few resources for people to get started.\\nWhy write\\n\\nWriting – Jacky Zhao\\nwhy i write - by Isabel - Mind Mine\\nWhy I Write | The Orwell Foundation\\nThe Paris Review - Why Write?\\nWhy write at all? –\\xa0Jesse\\nWhy Write –\\xa0Gian\\nWhy Bother Writing an Essay –\\xa0Jordan Peterson\\nAsk HN: What has your personal website/blog done for you?\\n\\nhow to write\\n\\nWhy and how to write things on the Internet | benkuhn.net\\nThe Ultimate Guide to Writing Online - David Perell\\nhow to write on the internet (& keep doing it)\\nNonfiction Writing Advice | Slate Star Codex\\nWriting Well Handbook by Julian Shapiro\\nNotes on writing well –\\xa0Michael Nielsen\\n\\non blogging\\n\\nWhy You Should Start a Blog Right Now - Alexey Guzey\\nA blog post is a very long and complex search query to find fascinating people and make them route interesting stuff to your inbox\\nSome blogging myths\\nMy checklist for publishing a blog post — LessWrong\\n#journal#writing4/16/2024Previous:Understand The Data\", metadata={'source': 'https://bneo.xyz/posts/1yearreview', 'start_index': 1979}),\n",
      " Document(page_content='Understand The DataI had a chat with Michael who I found on ADPlist.\\nThe most practical advice I got from him (+ Claude 3 Sonnet) is the following:\\nWhen assigned a task or analysis, like \"research the relationship between A, B, and C\", ask for additional context upfront:\\n\\nWhy are we looking at A, B, and C specifically? What is the broader product/business goal?\\nWhat are the initial assumptions or beliefs on how they relate?\\nAre there other related variables X, Y, and Z that should be considered?\\nWho will be consuming this analysis? What are their perspectives and priorities?\\n\\nWorking backwards from the end objective helps you obtain enough context so you understand where your specific analysis fits into the bigger picture.\\nThe rest of the notes are about how to understand data and stuff about quant.\\n\\nHow to understand data\\n1. Gather Structural/Systems Context', metadata={'source': 'https://bneo.xyz/posts/michaelhan', 'start_index': 0})]\n"
     ]
    }
   ],
   "source": [
    "from pprint import pprint\n",
    "\n",
    "pprint(splits[:5])"
   ]
  },
  {
   "cell_type": "code",
   "execution_count": 12,
   "id": "1f43428a",
   "metadata": {},
   "outputs": [
    {
     "data": {
      "text/plain": [
       "956"
      ]
     },
     "execution_count": 12,
     "metadata": {},
     "output_type": "execute_result"
    }
   ],
   "source": [
    "len(splits[0].page_content)"
   ]
  },
  {
   "cell_type": "code",
   "execution_count": 13,
   "id": "925eb8b9",
   "metadata": {},
   "outputs": [
    {
     "data": {
      "text/plain": [
       "{'source': 'https://bneo.xyz/posts/goodconvos', 'start_index': 1482}"
      ]
     },
     "execution_count": 13,
     "metadata": {},
     "output_type": "execute_result"
    }
   ],
   "source": [
    "splits[20].metadata"
   ]
  },
  {
   "cell_type": "markdown",
   "id": "594daf7a",
   "metadata": {},
   "source": [
    "## store\n"
   ]
  },
  {
   "cell_type": "code",
   "execution_count": 14,
   "id": "71adb4b2",
   "metadata": {},
   "outputs": [],
   "source": [
    "from langchain_community.vectorstores import Chroma\n",
    "from langchain_openai import OpenAIEmbeddings\n",
    "\n",
    "vectorstore = Chroma.from_documents(documents=splits, embedding=OpenAIEmbeddings())"
   ]
  },
  {
   "cell_type": "markdown",
   "id": "338463b6",
   "metadata": {},
   "source": [
    "## retrieve\n"
   ]
  },
  {
   "cell_type": "code",
   "execution_count": 15,
   "id": "b905c047",
   "metadata": {},
   "outputs": [],
   "source": [
    "# Retrieve and generate using the relevant snippets of the blog.\n",
    "retriever = vectorstore.as_retriever(search_type=\"similarity\", search_kwargs={\"k\": 6})"
   ]
  },
  {
   "cell_type": "code",
   "execution_count": 16,
   "id": "946a841a",
   "metadata": {},
   "outputs": [],
   "source": [
    "retrieved_docs = retriever.invoke(\"What is love?\")"
   ]
  },
  {
   "cell_type": "code",
   "execution_count": 17,
   "id": "75d17f81",
   "metadata": {},
   "outputs": [
    {
     "data": {
      "text/plain": [
       "6"
      ]
     },
     "execution_count": 17,
     "metadata": {},
     "output_type": "execute_result"
    }
   ],
   "source": [
    "len(retrieved_docs)"
   ]
  },
  {
   "cell_type": "code",
   "execution_count": 18,
   "id": "c0c40af7",
   "metadata": {},
   "outputs": [
    {
     "name": "stdout",
     "output_type": "stream",
     "text": [
      "Your doubt may become a good quality if you train it. It must become knowing, it must become critical. Ask it, whenever it wants to spoil something for you, why something is ugly, demand proofs from it, test it, and you will find it perplexed and embarrassed perhaps, or perhaps rebellious. But don’t give in, insist on arguments and act this way, watchful and consistent, every single time, and the day will arrive when from a destroyer it will become one of your best workers — perhaps the cleverest of all that are building at your life.\n",
      "\n",
      "Love\n",
      "\n",
      "To love is good too, for love is difficult. For one person to care for another, that is perhaps the most difficult thing required of us, the utmost and final test, the work for which all other work is but a preparation. With our whole being, with all the strength we have gathered, we must learn to love. This learning is ever a committed and enduring process.\n"
     ]
    }
   ],
   "source": [
    "print(retrieved_docs[3].page_content)"
   ]
  },
  {
   "cell_type": "markdown",
   "id": "71c0f6bd",
   "metadata": {},
   "source": [
    "## generate\n"
   ]
  },
  {
   "cell_type": "code",
   "execution_count": 24,
   "id": "04b809f5",
   "metadata": {},
   "outputs": [],
   "source": [
    "from langchain_core.prompts import PromptTemplate\n",
    "\n",
    "template = \"\"\"Use the following pieces of context to answer the question at the end.\n",
    "If you don't know the answer, just say that you don't know, don't try to make up an answer.\n",
    "Write with simple language in Paul Graham style. Write at least least 5 sentences.\n",
    "\n",
    "{context}\n",
    "\n",
    "Question: {question}\n",
    "\n",
    "Helpful Answer:\"\"\"\n",
    "\n",
    "prompt = PromptTemplate.from_template(template)"
   ]
  },
  {
   "cell_type": "code",
   "execution_count": 25,
   "id": "064a8bea",
   "metadata": {},
   "outputs": [],
   "source": [
    "from langchain import hub\n",
    "from langchain_core.output_parsers import StrOutputParser\n",
    "from langchain_core.runnables import RunnablePassthrough\n",
    "from langchain_openai import ChatOpenAI\n",
    "\n",
    "llm = ChatOpenAI(model_name=\"gpt-4-0125-preview\", temperature=0)\n",
    "\n",
    "\n",
    "def format_docs(docs):\n",
    "    return \"\\n\\n\".join(doc.page_content for doc in docs)\n",
    "\n",
    "\n",
    "rag_chain = (\n",
    "    {\"context\": retriever | format_docs, \"question\": RunnablePassthrough()}\n",
    "    | prompt\n",
    "    | llm\n",
    "    | StrOutputParser()\n",
    ")"
   ]
  },
  {
   "cell_type": "code",
   "execution_count": 26,
   "id": "cabd056e",
   "metadata": {},
   "outputs": [
    {
     "data": {
      "text/plain": [
       "\"Love, it seems, is a complex and multifaceted concept that cannot be easily defined by a single statement. It's an endeavor that challenges us, demands our utmost effort, and requires a continuous process of learning and growth. Love is not merely about the merging of two beings into one but rather about the individual growth that occurs in response to another person. It calls for the development of one's own world, respecting and greeting the solitude of the other, thereby creating a bond that is both protective and respectful of each other's boundaries.\\n\\nLove also encompasses the willingness to endure suffering and pain, recognizing that these experiences are integral to the human condition and can lead to deeper understanding and knowledge. It's about embracing doubt and transforming it into a tool for critical thinking and self-improvement. Love involves patience, not only with others but with oneself, and the courage to live with unanswered questions, finding solace in the journey towards understanding.\\n\\nMoreover, love extends beyond human relationships to include a love for life itself, for learning, and for the experiences that shape us. It's about finding joy and meaning in the books we read, the art we appreciate, and the films that move us, allowing these experiences to weave through the fabric of our lives, enriching us in countless ways.\\n\\nIn essence, love is the most difficult and rewarding task asked of us. It is the foundation for personal growth, understanding, and connection with the world around us. It is both a challenge and a gift, demanding our full engagement and offering in return a richer, more nuanced understanding of ourselves and our place in the world.\""
      ]
     },
     "execution_count": 26,
     "metadata": {},
     "output_type": "execute_result"
    }
   ],
   "source": [
    "rag_chain.invoke(\"What is love?\")"
   ]
  },
  {
   "cell_type": "code",
   "execution_count": 27,
   "id": "218defe8",
   "metadata": {},
   "outputs": [
    {
     "name": "stdout",
     "output_type": "stream",
     "text": [
      "Love, it seems, is a complex and multifaceted concept that defies simple definition. It's not merely a feeling of affection or attraction towards someone. Rather, it's a profound, challenging, and transformative force that demands the best of us. Love calls for individuals to grow, to differentiate, and to become worlds unto themselves in response to another. It's about two solitudes that protect, border, and greet each other, not losing themselves in the process but enriching each other's lives.\n",
      "\n",
      "Love involves suffering and happiness, pain and joy. It's an incurable condition that brings about permanent suffering, yet it's also the highest calling that requires us to care deeply for another person. This caring is perhaps the most difficult task asked of us, a task for which all other tasks are but preparation. Love demands patience, learning, and the willingness to live with questions that cannot yet be answered.\n",
      "\n",
      "In essence, love is about growth, both personal and mutual. It's about enduring the challenges and pains that come with caring for another while also embracing the happiness and fulfillment it brings. Love is not about possession or simple happiness; it's about the journey of becoming better individuals together, protecting and greeting each other's solitudes, and ultimately, learning to live and grow in the face of life's complexities."
     ]
    }
   ],
   "source": [
    "for chunk in rag_chain.stream(\"What is love?\"):\n",
    "    print(chunk, end=\"\", flush=True)"
   ]
  },
  {
   "cell_type": "markdown",
   "id": "02762d17",
   "metadata": {},
   "source": [
    "### adding sources\n"
   ]
  },
  {
   "cell_type": "code",
   "execution_count": 28,
   "id": "2cf0989c",
   "metadata": {},
   "outputs": [
    {
     "data": {
      "text/plain": [
       "{'context': [Document(page_content='Be Happy in Love', metadata={'source': 'https://bneo.xyz/posts/proust', 'start_index': 9221}),\n",
       "  Document(page_content='To love is not about merging. It is a noble calling for the individual to ripen, to differentiate, to become a world in oneself in response to another. It is a great, immodest call that singles out a person and summons them beyond all boundaries. Only in this sense may we use the love that has been given us. This is humanity’s task, for which we are still barely ready.\\n\\n\\nThis more human love (endlessly considerate and light and good and clear, consummated by holding close and letting go) will resemble that love that we so arduously prepare — the love that consists of two solitudes that protect, border, and greet each other.\\n#book2/9/2024Next:Writing Book SummariesPrevious:YouTube Archive', metadata={'source': 'https://bneo.xyz/posts/rilkeletters', 'start_index': 8611}),\n",
       "  Document(page_content='Your doubt may become a good quality if you train it. It must become knowing, it must become critical. Ask it, whenever it wants to spoil something for you, why something is ugly, demand proofs from it, test it, and you will find it perplexed and embarrassed perhaps, or perhaps rebellious. But don’t give in, insist on arguments and act this way, watchful and consistent, every single time, and the day will arrive when from a destroyer it will become one of your best workers — perhaps the cleverest of all that are building at your life.\\n\\nLove\\n\\nTo love is good too, for love is difficult. For one person to care for another, that is perhaps the most difficult thing required of us, the utmost and final test, the work for which all other work is but a preparation. With our whole being, with all the strength we have gathered, we must learn to love. This learning is ever a committed and enduring process.', metadata={'source': 'https://bneo.xyz/posts/rilkeletters', 'start_index': 7700}),\n",
       "  Document(page_content='Suffer Successfully\\n\\n\"Love is an incurable disease.\" In love, there is permanent suffering\". Those who love and those who are happy are not the same\"\\npain is subjective: \"we cannot allow ourselves to judge the legitimacy of another\\'s pain simply on the basis of the pain we would have suffered had we been similarly afflicted\"\\n\"feeling things (usually means feeling them painfully) is at some level linked to the acquisition of knowledge\"\\n\\n\"being jilted by a lover is a perfect introduction to the mechanisms of emotional dependency\"', metadata={'source': 'https://bneo.xyz/posts/proust', 'start_index': 1970}),\n",
       "  Document(page_content='YouTube ArchiveThe Great Library of Alexandria, O. Von Corven, 19th century\\nA list of YouTube videos that I want to archive away in a dusty box in the attic and revisit from time to time.\\nMovies Analysis\\n\\nLove is Worth the Risk | Eternal Sunshine of the Spotless Mind\\nThe Before Trilogy - Love Over Time\\nBeef: The Toxicity of \"Happiness\"\\nBetter a Pig than a Fascist\\nKiki’s Delivery Service: More Relevant than Ever\\nWhy Are Wong Kar-wai Films So Dreamy?\\nEverything Everywhere All At Once is an Overwhelming Experience\\n\\nMovie Scenes\\n\\n:)\\nWhen did you know she was the one for you? (Good Will Hunting)\\nGood Will Hunting | \\'Your Move Chief\\'\\nSherlock Holmes Kills It With His \"Best-Man Speech\"\\nAbout Time - Happiness scene\\nin another life...\\n\\nArtists\\n\\nThe Unending Violence of Vincent van Gogh\\nHEMINGWAY: The Unbearable Pain of Greatness\\n\\nLove', metadata={'source': 'https://bneo.xyz/posts/videos', 'start_index': 0}),\n",
       "  Document(page_content=\"Artists\\n\\nThe Unending Violence of Vincent van Gogh\\nHEMINGWAY: The Unbearable Pain of Greatness\\n\\nLove\\n\\nso you have a crush\\nlove without attachment\\nAlain de Botton: On Love | Digital Season\\nWhy You Will Marry the Wrong Person\\nA Divorce Attorney's Thoughts On Love and Marriage-James Sexton\\n\\nPeople\\n\\nDavid Brooks: How to know a person\\n\\nOn Startups\\n\\nHow to Build a Product that Scales into a Company\\n\\nOn Life\\n\\nBuilding a Life - Howard H. Stevenson (2013)\\nDaniel Goleman on Focus: The Secret to High Performance and Fulfilment\\n\\nTalking\\n\\nThink Fast, Talk Smart: Communication Techniques\\n\\nFaith\\n\\nMaking Sense of God: An Invitation to the Skeptical | Tim Keller\\nThe Reason for God | Tim Keller\\n\\nWriting\\n\\nLEADERSHIP LAB: The Craft of Writing Effectively\\n#listicles2/8/2024Next:Letters to a Young PoetPrevious:You Only Need 3 Things\", metadata={'source': 'https://bneo.xyz/posts/videos', 'start_index': 737})],\n",
       " 'question': 'What is Love?',\n",
       " 'answer': \"Love, as explored through various lenses, is a complex, multifaceted experience that defies simple definitions. It's not merely a feeling of affection or attraction. Instead, it's a profound, challenging endeavor that demands growth, understanding, and resilience from those who dare to embrace it. Love calls for individuals to become worlds unto themselves, yet remain open and connected to another, respecting both the closeness and the distance that true love necessitates. It's about protecting, greeting, and respecting each other's solitudes while also sharing a bond that transcends mere companionship.\\n\\nLove is difficult because it requires one to care deeply for another in a way that is selfless yet self-fulfilling, a paradox that can be both a source of great joy and great pain. It's a journey of continuous learning, where each step forward is a step into the unknown, requiring courage, strength, and the willingness to be vulnerable. Love involves suffering because it exposes us to the risk of loss, disappointment, and heartache, yet it's precisely this vulnerability that opens the door to profound connections and insights into the human condition.\\n\\nThe notion that love is worth the risk, despite its inherent challenges and the potential for suffering, underscores the belief that the depths of human connection and understanding it offers are invaluable. Love is seen as an essential, albeit difficult, part of the human experience, offering opportunities for growth, self-discovery, and the deepening of our capacity for empathy and compassion.\\n\\nIn essence, love is an incurable disease we willingly contract because its lessons, its intensity, and its capacity to enrich our lives far outweigh the inevitable challenges it brings. It's a commitment to another person that reflects a commitment to oneself, a continuous process of becoming alongside another, where the journey itself is as important as the destination.\"}"
      ]
     },
     "execution_count": 28,
     "metadata": {},
     "output_type": "execute_result"
    }
   ],
   "source": [
    "from langchain_core.runnables import RunnableParallel\n",
    "\n",
    "rag_chain_from_docs = (\n",
    "    RunnablePassthrough.assign(context=(lambda x: format_docs(x[\"context\"])))\n",
    "    | prompt\n",
    "    | llm\n",
    "    | StrOutputParser()\n",
    ")\n",
    "\n",
    "\n",
    "rag_chain_with_source = RunnableParallel(\n",
    "    {\"context\": retriever, \"question\": RunnablePassthrough()}\n",
    ").assign(answer=rag_chain_from_docs)\n",
    "\n",
    "rag_chain_with_source.invoke(\"What is Love?\")"
   ]
  },
  {
   "cell_type": "code",
   "execution_count": 29,
   "id": "f15b8c52",
   "metadata": {},
   "outputs": [],
   "source": [
    "def format_to_markdown(data):\n",
    "    markdown_output = (\n",
    "        f\"Question:{data['question']}\\n\\nAnswer:\\n{data['answer']}\\n\\nSources:\\n\\n\"\n",
    "    )\n",
    "    for i, doc in enumerate(data[\"context\"], start=1):\n",
    "        page_content = doc.page_content.split(\"\\n\")[\n",
    "            0\n",
    "        ]  # Get the first line of the content for brevity\n",
    "        source_link = doc.metadata[\"source\"]\n",
    "        markdown_output += f\"[[{i}]({source_link})] {page_content}\\n\\n\"\n",
    "    return markdown_output"
   ]
  },
  {
   "cell_type": "code",
   "execution_count": 30,
   "id": "0d4c2b78",
   "metadata": {},
   "outputs": [
    {
     "data": {
      "text/markdown": [
       "Question:What is Love?\n",
       "\n",
       "Answer:\n",
       "Love, as distilled from the various contexts provided, is a complex, multifaceted experience that defies simple definition. It's not merely a feeling of affection or attraction towards another person; it's a profound, challenging, and transformative process. Love calls for individuals to grow, to embrace their solitude while reaching out to another, protecting and respecting each other's boundaries. It's about learning to care deeply for another person, which is perhaps one of the most difficult tasks we are faced with in life. Love involves suffering and risk, but it's also seen as a path to knowledge and self-discovery. Through the pain and challenges of love, we can learn about our emotional dependencies and grow from them. Love is worth the risk because, through this arduous journey, we find opportunities for profound personal growth and understanding.\n",
       "\n",
       "Sources:\n",
       "\n",
       "[[1](https://bneo.xyz/posts/proust)] Be Happy in Love\n",
       "\n",
       "[[2](https://bneo.xyz/posts/rilkeletters)] To love is not about merging. It is a noble calling for the individual to ripen, to differentiate, to become a world in oneself in response to another. It is a great, immodest call that singles out a person and summons them beyond all boundaries. Only in this sense may we use the love that has been given us. This is humanity’s task, for which we are still barely ready.\n",
       "\n",
       "[[3](https://bneo.xyz/posts/rilkeletters)] Your doubt may become a good quality if you train it. It must become knowing, it must become critical. Ask it, whenever it wants to spoil something for you, why something is ugly, demand proofs from it, test it, and you will find it perplexed and embarrassed perhaps, or perhaps rebellious. But don’t give in, insist on arguments and act this way, watchful and consistent, every single time, and the day will arrive when from a destroyer it will become one of your best workers — perhaps the cleverest of all that are building at your life.\n",
       "\n",
       "[[4](https://bneo.xyz/posts/proust)] Suffer Successfully\n",
       "\n",
       "[[5](https://bneo.xyz/posts/videos)] YouTube ArchiveThe Great Library of Alexandria, O. Von Corven, 19th century\n",
       "\n",
       "[[6](https://bneo.xyz/posts/videos)] Artists\n",
       "\n"
      ],
      "text/plain": [
       "<IPython.core.display.Markdown object>"
      ]
     },
     "metadata": {},
     "output_type": "display_data"
    }
   ],
   "source": [
    "from IPython.display import display, Markdown\n",
    "\n",
    "res = rag_chain_with_source.invoke(\"What is Love?\")\n",
    "display(Markdown(format_to_markdown(res)))"
   ]
  },
  {
   "cell_type": "code",
   "execution_count": 31,
   "id": "de9417d6",
   "metadata": {},
   "outputs": [],
   "source": [
    "def ask(q):\n",
    "    res = rag_chain_with_source.invoke(q)\n",
    "    return display(Markdown(format_to_markdown(res)))"
   ]
  },
  {
   "cell_type": "code",
   "execution_count": 32,
   "id": "e23ac25b",
   "metadata": {},
   "outputs": [
    {
     "data": {
      "text/markdown": [
       "Question:What is the meaning of life?\n",
       "\n",
       "Answer:\n",
       "The meaning of life isn't a one-size-fits-all answer, like a best move in chess that doesn't exist. It's more about the unique journey each person takes, the specific mission or vocation they find for themselves. Life isn't asking us to solve it like a riddle but is instead posing questions to us daily, demanding our response through the way we live and the responsibilities we take on.\n",
       "\n",
       "Life is an endless process of unfolding, a dialogue between our potentialities and the situations we find ourselves in. These potentialities, ranging from intellectual gifts to the capacity for love and aspiration, don't have an expiration date but grow through the challenges life throws at us. It's in facing these challenges that we find meaning, especially in suffering, which is an inseparable part of life. Suffering and the way we respond to it can bring out values and strengths we never knew we had.\n",
       "\n",
       "Existentialists argue that to live is to suffer, but within that suffering, we find the opportunity to give life meaning. Nietzsche famously said, \"He who has a why to live can bear almost any how.\" This suggests that finding a purpose or a 'why' in life can help us endure the hardships. The essence of existence, then, is not about seeking a universal meaning of life but about taking responsibility for finding our own answers to the problems life sets before us, embracing our suffering as part of our unique path, and living in a way that is true to ourselves and our potentialities. Life is about the journey, the challenges, and how we choose to respond to them.\n",
       "\n",
       "Sources:\n",
       "\n",
       "[[1](https://bneo.xyz/posts/meaning)] Meaning of life\n",
       "\n",
       "[[2](https://bneo.xyz/posts/renewal)] But life isn't a mountain that has a summit, Nor is it -- as some suppose -- a riddle that has an answer. Nor a game that has a final score.\n",
       "\n",
       "[[3](https://bneo.xyz/posts/meaning)] central theme of existentialism: to life is to suffer, to survive is to find meaning in the suffering.\n",
       "\n",
       "[[4](https://bneo.xyz/posts/meaning)] Spinoza: \"Emotion, which is suffering, ceases to be suffering as soon as we form a clear and precise picture of it.\n",
       "\n",
       "[[5](https://bneo.xyz/posts/happy-life)] \"Don't ever confuse the two, your life and your work\"\n",
       "\n",
       "[[6](https://bneo.xyz/posts/meaning)] A man who becomes conscious of the responsibility he bears towards a human being who affectionately waits for him or to an unfinished work, will never be able to throw away his life.\n",
       "\n"
      ],
      "text/plain": [
       "<IPython.core.display.Markdown object>"
      ]
     },
     "metadata": {},
     "output_type": "display_data"
    }
   ],
   "source": [
    "ask(\"What is the meaning of life?\")"
   ]
  },
  {
   "cell_type": "code",
   "execution_count": 33,
   "id": "1dd054bd",
   "metadata": {},
   "outputs": [
    {
     "data": {
      "text/markdown": [
       "Question:What is a community?\n",
       "\n",
       "Answer:\n",
       "A community is a tapestry of individuals, each with their own stories, backgrounds, and perspectives, woven together by shared spaces, experiences, or goals. It's not just a group of people living in the same place, but a network of relationships built on mutual support, understanding, and sometimes, the simple act of playing freely on the streets. Communities thrive on the Ubuntu philosophy: \"I am because you are.\" This means recognizing that our own well-being is deeply connected to the well-being of others around us. In a community, members engage with each other in unscripted, unmonitored ways, learning to navigate the complexities of human relationships through direct interaction. This process helps to rebuild the social muscles weakened by our reliance on screen-based, friction-free solutions to meet our needs. In essence, a community is a collective where individuals come together to share their joys, sorrows, and life's mundane moments, enriching each other's lives through the power of connection and shared humanity.\n",
       "\n",
       "Sources:\n",
       "\n",
       "[[1](https://bneo.xyz/posts/play-streets)] We're so burned out from our screen-based, data-heavy lives that we no longer have time or energy for the small, mundane, place-based friendships that has nourished and sustained us for centuries.\n",
       "\n",
       "[[2](https://bneo.xyz/posts/play-streets)] You get it all served in uncomplicated, lack of friction, and you no longer know how to deal with people.\n",
       "\n",
       "[[3](https://bneo.xyz/posts/braces)] the idea Ubuntu philosophy: I am because you are; I cannot be content and live a fulfilled life if the people around me are suffering, are struggling. it's very much a collective social ideology, a stark contrast with the wellness rooted in individualism today.\n",
       "\n",
       "[[4](https://bneo.xyz/posts/burnoutsociety)] Burnout society\n",
       "\n",
       "[[5](https://bneo.xyz/posts/play-streets)] Playing Freely on the StreetsWhen you grew up, did you play freely on the street?\n",
       "\n",
       "[[6](https://bneo.xyz/posts/party)] Everyone is thinking about it, but nobody knows what to do.\n",
       "\n"
      ],
      "text/plain": [
       "<IPython.core.display.Markdown object>"
      ]
     },
     "metadata": {},
     "output_type": "display_data"
    }
   ],
   "source": [
    "ask(\"What is a community?\")"
   ]
  },
  {
   "cell_type": "code",
   "execution_count": 34,
   "id": "41db7ad0",
   "metadata": {},
   "outputs": [
    {
     "data": {
      "text/markdown": [
       "Question:What is Boston like?\n",
       "\n",
       "Answer:\n",
       "Boston is a city of contrasts and history, a place where the old and the new coexist in a fascinating dance. It's a city where navigating can be tricky, thanks to its unique road layout and the occasional GPS glitch, especially amidst the towering buildings. Yet, it's also a city that offers moments of beauty, like a sunset at Rowes Wharf that can make you feel as if you're inside a painting. Walking through Boston, especially after spending time in a quieter place like Ames, feels like a reawakening, a rush of stimuli from every direction, reminding you of the vibrancy of urban life.\n",
       "\n",
       "The city is not just about its streets and buildings; it's about experiences. From the chewy yet satisfying lobster rolls priced at $40, which speak to the city's culinary delights, to the cozy and inviting atmosphere of the Beacon Hill Books & Cafe, Boston offers a variety of experiences that cater to different tastes and interests. The city's rich history is palpable in its historical sites like the Old South Meeting House and the Massachusetts State House, inviting those with a penchant for the past to explore and learn.\n",
       "\n",
       "Moreover, Boston's cultural scene is vibrant, with institutions like the Isabella Stewart Gardner Museum offering a glimpse into the aesthetic and artistic tastes of one of the city's iconic figures. The museum, with its beautiful garden and three floors of art, tells a personal story that enriches the visitor's experience of the city.\n",
       "\n",
       "Boston is also a place for discovery and exploration, with areas like Newbury Street offering shopping and dining experiences that can cap off a day of museum visits or historical tours. The city's mix of educational institutions, historical depth, cultural richness, and urban energy makes it a complex but fascinating place to visit, where every corner holds a story and every experience adds a layer to one's understanding of this historic city.\n",
       "\n",
       "Sources:\n",
       "\n",
       "[[1](https://bneo.xyz/posts/boston-d1)] It was $40 for a good amount of lobster meat and bread. I found it to be chewy at first, but grew to like it.\n",
       "\n",
       "[[2](https://bneo.xyz/posts/boston-d3)] Boston Day 3: Isabella & MFAIsabella Stewart Gardner Museum\n",
       "\n",
       "[[3](https://bneo.xyz/posts/boston-d3)] The bookstore was so nice.\n",
       "\n",
       "[[4](https://bneo.xyz/posts/boston-d2)] Great Dome (grab a picture here)\n",
       "\n",
       "[[5](https://bneo.xyz/posts/boston-d1)] Boston Day 1: Quincy MarketQuincy market\n",
       "\n",
       "[[6](https://bneo.xyz/posts/boston-d1)] Arriving in Boston, we were full of excitement and positive anticipation.\n",
       "\n"
      ],
      "text/plain": [
       "<IPython.core.display.Markdown object>"
      ]
     },
     "metadata": {},
     "output_type": "display_data"
    }
   ],
   "source": [
    "ask(\"What is Boston like?\")"
   ]
  },
  {
   "cell_type": "code",
   "execution_count": 35,
   "id": "90df371c",
   "metadata": {},
   "outputs": [
    {
     "data": {
      "text/markdown": [
       "Question:What is California like?\n",
       "\n",
       "Answer:\n",
       "California, through the eyes of someone who has lived and breathed its air, is a place of endless possibilities. It's a land where the tech industry thrives, where innovation and creativity meet at every corner, especially in the Bay Area and Silicon Valley. The weather is good, contributing to an atmosphere that's ripe for adventure and exploration. People come from all over with dreams and passions, making it easy to find others who share similar interests and drives. The culture is diverse, and there's always something happening—be it hackathons, meetups, or just exploring the vibrant cities and beautiful landscapes. California seems to embody a spirit of excitement and drive, making every weekend full of potential new experiences. It's a place that can make you feel at home, even if you're living out of Airbnbs, because of the connections you make and the shared energy of striving for something more.\n",
       "\n",
       "Sources:\n",
       "\n",
       "[[1](https://bneo.xyz/posts/making-friends)] Friendships in CaliforniaI read this article about making friends as an adult, and it made me reflect about my time in Cali.\n",
       "\n",
       "[[2](https://bneo.xyz/posts/isu)] Going to California was a breath of fresh air. I got to experience the bay area. The Silicon Valley. It was what I dreamt about when I started college. It was also my first job ever in my life. I got to work at the factory where Tesla cars are made and see Elon Musk in person. I made a lot of friends, saw a lot of places, ate good (limited) food. I grew a lot that summer.\n",
       "\n",
       "[[3](https://bneo.xyz/posts/isu)] After a really fun tokyo trip in winter, and the obligatory return to Malaysia, I came back to the cold and unforgiving weather, still trying to get an internship.\n",
       "\n",
       "[[4](https://bneo.xyz/posts/22)] Leaving California again was hard. My old friends came back full time, and I felt like I was delaying my life. I also had only one more class to graduate, and I was contemplating a lot about coming back to Iowa. But now I'm glad I did. I was really burnt out in California, and never took the time to rest.\n",
       "\n",
       "[[5](https://bneo.xyz/posts/malaysia)] To be this person, this voice tells me I have to be in the US, specifically the Bay Area. San Francisco. After two summers in the bay, I felt really at home, even though I moved between 5 different Airbnbs, I found my people. I met people who thought about the same things I did, who shared the same passion and drive for things, who I could relate to at a deeper level. I felt like I've known them forever and I wish I met them sooner. My days were filled with excitement and drive, my weekends were full of possibilities. I made plans every week. I talked to strangers at hackathons and talks. My most vivid memory was walking the streets of SF alone for an hour searching for a ramen after spending 24 hours without sleep for an AI hackathon, talking to startup founders and MIT students, eating bags of Fritos Corn Chips, and winning a category prize.\n",
       "\n",
       "[[6](https://bneo.xyz/posts/backhome)] That said, I miss a lot of things about the US, and everything I see and hear in Malaysia just makes me miss them more. I'm leaving what to me, is a better life in all aspects. A higher paying job, my friends, good weather, old bookstores, California and Boston and Seattle, the tech industry, the hackathons, the cold, the accents, the culture, the atmosphere, my comfy room with 0 mess. I miss all this. a lot. Perhaps I should heed the advice of Proust, to see the beauty in everyday objects and things, take my time on what seems boring at first, to not let snobbery get in the way of appreciation of my culture, my home, and my people.\n",
       "\n"
      ],
      "text/plain": [
       "<IPython.core.display.Markdown object>"
      ]
     },
     "metadata": {},
     "output_type": "display_data"
    }
   ],
   "source": [
    "ask(\"What is California like?\")"
   ]
  },
  {
   "cell_type": "code",
   "execution_count": 52,
   "id": "58419b0b",
   "metadata": {},
   "outputs": [
    {
     "data": {
      "text/markdown": [
       "Question:Name me all the places in California you can find in bullet points\n",
       "\n",
       "Answer:\n",
       "- SF (San Francisco)\n",
       "- Outer Sunset on Irving Street\n",
       "- Golden Gate Park\n",
       "- De Young Museum\n",
       "- California hiking spots\n",
       "- Tesla factory (Silicon Valley)\n",
       "- Fort Baker\n",
       "- Golden Gate View Point\n",
       "- Good Luck Dim Sum on Clement St\n",
       "- Portsmouth Square\n",
       "- St Mary's Square\n",
       "- Union Square\n",
       "\n",
       "Sources:\n",
       "\n",
       "[[1](https://bneo.xyz/posts/deyoung)] Arts market and MuseumToday was an eventful day.\n",
       "\n",
       "[[2](https://bneo.xyz/posts/making-friends)] Friendships in CaliforniaI read this article about making friends as an adult, and it made me reflect about my time in Cali.\n",
       "\n",
       "[[3](https://bneo.xyz/posts/golden-gate)] SF Trip w ParentsDay #2 of bringing my parents around to touristy spots in California.\n",
       "\n",
       "[[4](https://bneo.xyz/posts/malaysia)] To be this person, this voice tells me I have to be in the US, specifically the Bay Area. San Francisco. After two summers in the bay, I felt really at home, even though I moved between 5 different Airbnbs, I found my people. I met people who thought about the same things I did, who shared the same passion and drive for things, who I could relate to at a deeper level. I felt like I've known them forever and I wish I met them sooner. My days were filled with excitement and drive, my weekends were full of possibilities. I made plans every week. I talked to strangers at hackathons and talks. My most vivid memory was walking the streets of SF alone for an hour searching for a ramen after spending 24 hours without sleep for an AI hackathon, talking to startup founders and MIT students, eating bags of Fritos Corn Chips, and winning a category prize.\n",
       "\n",
       "[[5](https://bneo.xyz/posts/chinatown)] The plan was to go Portsmouth Square, and find a place to eat.\n",
       "\n",
       "[[6](https://bneo.xyz/posts/isu)] Going to California was a breath of fresh air. I got to experience the bay area. The Silicon Valley. It was what I dreamt about when I started college. It was also my first job ever in my life. I got to work at the factory where Tesla cars are made and see Elon Musk in person. I made a lot of friends, saw a lot of places, ate good (limited) food. I grew a lot that summer.\n",
       "\n"
      ],
      "text/plain": [
       "<IPython.core.display.Markdown object>"
      ]
     },
     "metadata": {},
     "output_type": "display_data"
    }
   ],
   "source": [
    "ask(\"Name me all the places in California you can find in bullet points\")"
   ]
  },
  {
   "cell_type": "code",
   "execution_count": 36,
   "id": "db381ecb",
   "metadata": {},
   "outputs": [
    {
     "data": {
      "text/markdown": [
       "Question:what are some useful macos apps\n",
       "\n",
       "Answer:\n",
       "If you're looking for useful MacOS apps, you're in luck. There's a treasure trove of tools out there designed to enhance productivity, streamline your workflow, and just make life a bit easier. For starters, AltTab brings the Windows-style app switching to MacOS, making it easier to navigate between applications. Amie combines your calendar, to-dos, and integrations in one place, simplifying how you organize your day. For those concerned about their digital footprint, App Cleaner helps you uninstall apps completely, leaving no leftover files behind.\n",
       "\n",
       "Arc claims the title of the best browser on Earth, a bold statement but one that many users agree with due to its speed and efficiency. BatFi is another gem, especially for those looking to optimize their Mac's battery life by stopping the charge at 80%. And for security-conscious users, Bitwarden stands out as a robust password manager. These are just a few examples, but they highlight the diversity and utility of apps available for MacOS users. Whether you're looking to enhance productivity, manage your digital life, or simply enjoy a better browsing experience, there's likely an app out there for you.\n",
       "\n",
       "Sources:\n",
       "\n",
       "[[1](https://bneo.xyz/posts/apps)] Useful MacOS AppsThis is a living post of useful apps/tools I use on MacOS.\n",
       "\n",
       "[[2](https://bneo.xyz/posts/focus)] Tools for Keeping FocusSome things I do to help keep focus on my Macbook and iPhone, inspired by this LessWrong post by Ben Kuhn\n",
       "\n",
       "[[3](https://bneo.xyz/posts/ios)] Some IOS Apps I Likea few ios apps on my i13 mini\n",
       "\n",
       "[[4](https://bneo.xyz/posts/swift)] ios twitter\n",
       "\n",
       "[[5](https://bneo.xyz/posts/focus)] browser\n",
       "\n",
       "[[6](https://bneo.xyz/posts/admire)] Some more inspirations off the top of my head as I write this. this list is very much non-exhaustive.\n",
       "\n"
      ],
      "text/plain": [
       "<IPython.core.display.Markdown object>"
      ]
     },
     "metadata": {},
     "output_type": "display_data"
    }
   ],
   "source": [
    "ask(\"what are some useful macos apps\")"
   ]
  },
  {
   "cell_type": "code",
   "execution_count": 37,
   "id": "2194e862",
   "metadata": {},
   "outputs": [
    {
     "data": {
      "text/markdown": [
       "Question:Advice for 20 year olds\n",
       "\n",
       "Answer:\n",
       "In your 20s, think of life as a grand experiment. It's not about climbing the highest ladder as fast as you can. It's about learning who you are, what you love, and how you fit into the world. This decade is your golden time to collect experiences and people that shape you. Work in different places, even if they seem off the beaten path, like another country or a farm. These experiences grow you in ways a corporate job never will.\n",
       "\n",
       "Fail a few times. Pick the wrong job, take on risky projects. Through failure, you learn about your strengths and weaknesses. Make a list of what you love and hate, what you're good at, and what you're not. The intersection of what you love and excel at will guide you to roles where you'll be both successful and happy.\n",
       "\n",
       "Remember, happiness and frustration are two sides of the same coin. Manage your expectations about life and work hard. The good life requires effort, both in your career and personal relationships. Rethink your desires. If wealth is your goal, understand why. The best reason to seek wealth is to have the freedom to do what you love, not to escape work.\n",
       "\n",
       "The world has changed. You won't likely stay with one company your entire career. Your first job's purpose is to lead to a better one. Balance your time between planning for the future and enjoying the present. Develop your people skills; they're crucial in every aspect of life.\n",
       "\n",
       "Lastly, bias towards action. Your 20s are for doing, experimenting, and stepping out of your comfort zone. This is how you grow, learn, and find your path. Remember, \"the good life is a life inspired by love and guided by knowledge.\" Keep these principles in mind, and you'll navigate your 20s with purpose and joy.\n",
       "\n",
       "Sources:\n",
       "\n",
       "[[1](https://bneo.xyz/posts/career-advice)] Career Advice for 20sMolly Graham shares 10 things she wish she knew at the beginning of her 20s.\n",
       "\n",
       "[[2](https://bneo.xyz/posts/gradadvice)] Advice for New College GradsSome advice for new college grads by Chris from 2006.\n",
       "\n",
       "[[3](https://bneo.xyz/posts/8artist)] We're so immersed in the bullsh*t of our own activities to know even how to give anyone advice\n",
       "\n",
       "[[4](https://bneo.xyz/posts/career-advice)] More career advice:\n",
       "\n",
       "[[5](https://bneo.xyz/posts/action)] Bias Towards ActionYour 20s is the time do do random and unexpected things.\n",
       "\n",
       "[[6](https://bneo.xyz/posts/gradadvice)] \"the good life is a life inspired by love and guided by knowledge\" - Bertrand Russell\n",
       "\n"
      ],
      "text/plain": [
       "<IPython.core.display.Markdown object>"
      ]
     },
     "metadata": {},
     "output_type": "display_data"
    }
   ],
   "source": [
    "ask(\"Advice for 20 year olds\")"
   ]
  },
  {
   "cell_type": "code",
   "execution_count": 38,
   "id": "34451661",
   "metadata": {},
   "outputs": [
    {
     "data": {
      "text/markdown": [
       "Question:how to deal with anxiety?\n",
       "\n",
       "Answer:\n",
       "Dealing with anxiety is like gardening for your mind. First, recognize that anxiety isn't inherently bad. It's a signal, much like hunger or thirst, telling you something needs attention. The trick is in how you respond to this signal.\n",
       "\n",
       "Start by shifting your mindset. See anxiety not as a monster lurking in the shadows but as a challenge to be met or even an opportunity for growth. This is the essence of antifragility and resilience. When you feel anxiety bubbling up, ask yourself, \"What is this trying to tell me? How can I grow from this?\"\n",
       "\n",
       "Journaling can be a powerful tool here. Spend time writing about your experiences with anxiety, focusing on the lessons learned and the strengths gained from each encounter. This practice can help you find meaning in your stress and align it with your values, transforming it from a source of suffering into a catalyst for achieving your goals.\n",
       "\n",
       "Remember the principle of \"tend and befriend.\" Helping others can not only reduce your own suffering but also promote feelings of calm and connection through the release of oxytocin. When you're feeling anxious, reach out and support someone else. It's a way of using your stress positively, benefiting both you and those around you.\n",
       "\n",
       "Lastly, practice self-awareness and mindfulness. Acknowledge your feelings of anxiety without judgment, then consciously choose to transform them into something positive. Whether it's turning fear into excitement or anticipation, or grief into growth, you have the power to change your emotional landscape.\n",
       "\n",
       "In summary, dealing with anxiety involves a combination of mindset shift, self-reflection, helping others, and transforming negative emotions into positive ones. By practicing these strategies, you can navigate your anxiety more effectively and use it as a tool for personal growth and achievement.\n",
       "\n",
       "Sources:\n",
       "\n",
       "[[1](https://bneo.xyz/posts/stress)] The difference lies in your mindset going into it.\n",
       "\n",
       "[[2](https://bneo.xyz/posts/usfinterview)] 'For I know the plans I have for you,' declares the Lord, 'plans to prosper you and not to harm you, plans to give you a hope and a future. ' — Jeremiah 29:11\n",
       "\n",
       "[[3](https://bneo.xyz/posts/stress)] there is a fine line between excitement and anxiety\n",
       "\n",
       "[[4](https://bneo.xyz/posts/emotion-physics)] The power comes in transforming energy, turning signal emotions into positive ones. You can take anxiety and turn it into anticipation, fear into motivation, grief into growth, all of which becomes fuel for growth and action.\n",
       "\n",
       "[[5](https://bneo.xyz/posts/mentalhealth)] Practical Mental Health TipsFound this 22-minute article that's a mix of personal story, science of mental health, and practical tips.\n",
       "\n",
       "[[6](https://bneo.xyz/posts/relax)] The lesson here is when you stress out about something, it's likely half of your effort is not effort, it's unnecessary stress that made you feel like you're at your best.\n",
       "\n"
      ],
      "text/plain": [
       "<IPython.core.display.Markdown object>"
      ]
     },
     "metadata": {},
     "output_type": "display_data"
    }
   ],
   "source": [
    "ask(\"how to deal with anxiety?\")"
   ]
  },
  {
   "cell_type": "code",
   "execution_count": 39,
   "id": "3869083f",
   "metadata": {},
   "outputs": [
    {
     "data": {
      "text/markdown": [
       "Question:how to focus?\n",
       "\n",
       "Answer:\n",
       "To focus, start by removing distractions. This means turning your phone to grayscale, using focus mode, and batching notifications. If distractions are internal, find what motivates you. Intrinsic motivation, where the work itself is rewarding, can lead to a state of flow and deep focus. If that's lacking, use extrinsic rewards to make task completion satisfying.\n",
       "\n",
       "On low-focus days, ask yourself if you've slept well, eaten healthily, or exercised enough. Also, consider if the work is too challenging or not aligned with your interests. Adjust your environment and tasks based on these reflections.\n",
       "\n",
       "Use practical tools like setting specific work hours, taking short breaks, and not engaging in cognitive tasks during those breaks. Music can also help, with energetic tunes for sleepiness and subdued tracks for intense work. Let your mind wander at times instead of constantly seeking stimulation.\n",
       "\n",
       "Visual techniques like focusing on a specific target can increase alertness. Regularly visualize both positive outcomes and the consequences of failure to maintain motivation. Finally, reward yourself randomly for completing milestones to enhance motivation through dopamine release.\n",
       "\n",
       "Sources:\n",
       "\n",
       "[[1](https://bneo.xyz/posts/focus)] Other thoughts:\n",
       "\n",
       "[[2](https://bneo.xyz/posts/focus)] Tools for Keeping FocusSome things I do to help keep focus on my Macbook and iPhone, inspired by this LessWrong post by Ben Kuhn\n",
       "\n",
       "[[3](https://bneo.xyz/posts/stillness)] on breaks\n",
       "\n",
       "[[4](https://bneo.xyz/posts/lowfocus)] Dealing With Low FocusI had a lot of low-focus days the past three months, particularly this month.\n",
       "\n",
       "[[5](https://bneo.xyz/posts/fujifilm)] You want an image where the brightest points are not almost-but-not-quite 100% white, and the darkest points are almost-but-not-quite 100% black.\n",
       "\n",
       "[[6](https://bneo.xyz/posts/motivation)] quantify number of hours per week and day for goal\n",
       "\n"
      ],
      "text/plain": [
       "<IPython.core.display.Markdown object>"
      ]
     },
     "metadata": {},
     "output_type": "display_data"
    }
   ],
   "source": [
    "ask(\"how to focus?\")"
   ]
  },
  {
   "cell_type": "code",
   "execution_count": 40,
   "id": "18ed1246",
   "metadata": {},
   "outputs": [
    {
     "data": {
      "text/markdown": [
       "Question:what is success?\n",
       "\n",
       "Answer:\n",
       "Success, as distilled from the various insights and reflections provided, isn't merely about achieving career milestones or accumulating accolades. It's a complex blend of perseverance, wisdom, and the intrinsic joy found in the journey of doing what you love. Success involves understanding and overcoming failures, not by dismissing them but by learning from them and moving forward. It's about recognizing that true fulfillment doesn't come from external validation or societal measures of achievement but from deep, meaningful work and relationships. Success is also about self-awareness, knowing the long-term consequences of your actions, and making sacrifices that align with your values and goals. In essence, success is a personal journey of continuous effort, learning, and growth, where the ultimate reward is not just the outcome but the wisdom and satisfaction gained along the way.\n",
       "\n",
       "Sources:\n",
       "\n",
       "[[1](https://bneo.xyz/posts/success)] SuccessProfessor G on success.\n",
       "\n",
       "[[2](https://bneo.xyz/posts/naval)] Make interesting things that people want. Shoe your craft, practice your craft, and the right people will eventually find you\n",
       "\n",
       "[[3](https://bneo.xyz/posts/culturelies)] A Better Way To LiveNighthawks, 1942, Edward Hopper\n",
       "\n",
       "[[4](https://bneo.xyz/posts/success-mindset)] Mindset of Successful PeopleIf you feel like everything that happens to you is beyond your control, that there is nothing you can do to set yourself up for success, and not even try, you don't have the mindset of a successful person.\n",
       "\n",
       "[[5](https://bneo.xyz/posts/burnoutsociety)] Today's society is no longer Foucault's disciplinary society, the 21st century is an achievement society\n",
       "\n",
       "[[6](https://bneo.xyz/posts/backhome)] After distracting myself with two Sherlock Holmes movie series portrayed by R.D.J., and a third of a quarter of Harry Potter The Deathly Hallows, when my plane landed in Malaysia, I felt immense sadness and yearning. The state of my health shoved me into a corner where I had to give up what I fought for for the past 2 years, the internship hunts and the interviews, the constant pressure to always be learning and growing or I'll never be good enough to land a job, the inability to relax and rest because I was an international student, and by default, I had to work 10x harder. Failure to me meant going back home after graduation, it meant I wasn't good enough, that I failed to live up to my potential, that I have to continue to depend on my father who's already 61 years of age to pursue graduate school. Failure is more complicated and harder to define when it's something out of my control. An external bad actor that has a mind of it's own and specializes in making my life miserable. I\n",
       "\n"
      ],
      "text/plain": [
       "<IPython.core.display.Markdown object>"
      ]
     },
     "metadata": {},
     "output_type": "display_data"
    }
   ],
   "source": [
    "ask(\"what is success?\")"
   ]
  },
  {
   "cell_type": "code",
   "execution_count": 41,
   "id": "9b881bd9",
   "metadata": {},
   "outputs": [
    {
     "data": {
      "text/markdown": [
       "Question:what was 2023 like?\n",
       "\n",
       "Answer:\n",
       "2023 was a year of transitions and growth for you. It started with a memorable graduation trip, filled with adventures across various landscapes and experiences that brought joy and gratitude. You had the opportunity to reconnect with friends, participate in AI events and hackathons, and even host your parents, making you feel more adult. Despite the initial plan to move to the Bay Area and continue with Tesla, life took a different turn, leading you to grad school, which you see as another chance to pursue your goals. The summer was a highlight, with your return to California for internships and networking, enriching your confidence and social skills. However, you also faced challenges, such as dealing with GERD and adjusting to a quieter life back in Iowa for your final class. The year was a mix of achievements, learning, and self-discovery, setting the stage for a purposeful gap year before graduate school in 2024.\n",
       "\n",
       "Sources:\n",
       "\n",
       "[[1](https://bneo.xyz/posts/2023)] 2023 reviewFireworks in Nagaoka, Kiyoshi Yamashita, 1950\n",
       "\n",
       "[[2](https://bneo.xyz/posts/2023)] It's time to review my 2023.\n",
       "\n",
       "[[3](https://bneo.xyz/posts/22)] Summer 23. It was really nice to be back. I got to see old friends and make new ones. I went for a lot of AI events and hackathons, it felt unreal being in the same room with CEOs and YC founders, sitting at the same table with stanford Ph.D. students, and staying up all night at the ferry building in San Francisco for my app to be presented and awarded. I went to my first american party (and another one later on), although it was more like a networking event since everyone were interns. My parents came to visit for 3 weeks and it was nice driving them around to touristy spots, and eat good food. They liked it a lot, especially since I was paying for everything. I felt like an adult for the first time. It was 14 weeks filled with adventure, thrill, and lots of networking. I'm a little more confident in speaking now, although still trying to be less awkward. During this time, I got back on PPIs cause it started to flare up, but the in-house Tesla doctors told me to stop taking them,\n",
       "\n",
       "[[4](https://bneo.xyz/posts/22)] The highlight of 2022 was my Tesla internship in Summer 2022. A big part of who I am and what I want today stems from the experiences I had and the people I met in the bay area. Even though I didn't like the work I did the most, being in California expanded my horizons. The world felt really small in Ames, IA. In California, I felt like it was what I was missing the whole time. I felt like I belonged. I had dozens of new experiences and made some of my closest friends during that time, albeit I did had to take PPIs the entire time to sustain myself, it made me feel like I could still live a life with GERD.\n",
       "\n",
       "[[5](https://bneo.xyz/posts/copy)] #work7/23/2023Next:Live an Asymmetric LifePrevious:AGI House Hackathon\n",
       "\n",
       "[[6](https://bneo.xyz/posts/22)] Leaving California again was hard. My old friends came back full time, and I felt like I was delaying my life. I also had only one more class to graduate, and I was contemplating a lot about coming back to Iowa. But now I'm glad I did. I was really burnt out in California, and never took the time to rest.\n",
       "\n"
      ],
      "text/plain": [
       "<IPython.core.display.Markdown object>"
      ]
     },
     "metadata": {},
     "output_type": "display_data"
    }
   ],
   "source": [
    "ask(\"what was 2023 like?\")"
   ]
  },
  {
   "cell_type": "code",
   "execution_count": 42,
   "id": "e1755c34",
   "metadata": {},
   "outputs": [
    {
     "data": {
      "text/markdown": [
       "Question:how to make friends?\n",
       "\n",
       "Answer:\n",
       "Making friends starts with paying attention. Opportunities to connect are everywhere, but they're easy to miss if you're not looking. It's about being open to the unexpected, stepping out of your routine, and embracing the moments that bring you together with someone else. When you feel that click, that sense of connection, it's important to act on it. This means having the courage to let things be awkward at first, being vulnerable, and showing willingness to invest energy and thought into the budding friendship.\n",
       "\n",
       "Taking action is crucial. Friendship requires effort, like showing up for someone even when it's not convenient. It's about putting in the work to maintain the relationship, which should ultimately bring joy rather than feel like a chore. Establishing rituals can help, such as regular meet-ups or activities that become a part of your routine. This could be anything from book clubs to monthly hikes, making it easier to maintain these connections by simply showing up.\n",
       "\n",
       "Imagination plays a role too. Be open to making new friends while cherishing the old ones. True friends are honest and push you towards growth, offering support without keeping score. Remember, friendships evolve over time, but the core values that founded them can endure and deepen.\n",
       "\n",
       "Lastly, it's about choosing friends with care, recognizing that true friendship is based on trust, wisdom, and goodness. Friends should challenge you to be better and support you in becoming the best version of yourself. In today's world, where we're often distracted by screens and superficial connections, making a conscious effort to engage in meaningful friendships is more important than ever. It's about being less available for the distractions and more present for the people who matter.\n",
       "\n",
       "Sources:\n",
       "\n",
       "[[1](https://bneo.xyz/posts/proust)] Be a Good Friend\n",
       "\n",
       "[[2](https://bneo.xyz/posts/friendshipforces)] Attention\n",
       "\n",
       "[[3](https://bneo.xyz/posts/truefriendship)] make new friends, keep the old: always be open to new friendships, including younger people. no one is a sweeter friend than someone who's been with you from the stat, cherish and maintain them\n",
       "\n",
       "[[4](https://bneo.xyz/posts/truefriendship)] there are different types of friends: be they business associates, neighbors, or acquaintances, the rare friends we bind ourselves to on a much deeper level are the ones that deeply change our lives, just as we change theirs.\n",
       "\n",
       "[[5](https://bneo.xyz/posts/play-streets)] Make effort with friends, new and old, and ask for the help and support we need, and providing it in return.\n",
       "\n",
       "[[6](https://bneo.xyz/posts/play-streets)] We're so burned out from our screen-based, data-heavy lives that we no longer have time or energy for the small, mundane, place-based friendships that has nourished and sustained us for centuries.\n",
       "\n"
      ],
      "text/plain": [
       "<IPython.core.display.Markdown object>"
      ]
     },
     "metadata": {},
     "output_type": "display_data"
    }
   ],
   "source": [
    "ask(\"how to make friends?\")"
   ]
  },
  {
   "cell_type": "code",
   "execution_count": 55,
   "id": "1dae3fd6",
   "metadata": {},
   "outputs": [
    {
     "data": {
      "text/markdown": [
       "Question:qualities of a good friendship\n",
       "\n",
       "Answer:\n",
       "Qualities of a good friendship, distilled from the essence of the context provided, are multifaceted yet simple at their core. A good friendship is built on honesty; friends tell each other what they need to hear, not necessarily what they want to hear. This honesty is a cornerstone of trust, another indispensable quality. Trust allows friends to share vulnerabilities and confidential information without fear of betrayal.\n",
       "\n",
       "Loyalty is the foundation that prevents friendships from crumbling under the weight of challenges and changes. It's the assurance that, despite the inevitable evolution of individual lives, the friendship will not only endure but also deepen. Loyalty in friendship means standing by each other, fighting for each other, and pushing each other towards potential, even when it involves uncomfortable truths.\n",
       "\n",
       "Kindness and the ability to celebrate or console at the right times are qualities that add warmth and depth to a friendship. These actions show that a friend is genuinely invested in your happiness and well-being. Furthermore, a good friendship is characterized by a mutual willingness to help and support each other, whether in times of need or in pursuit of potential.\n",
       "\n",
       "Lastly, a true friendship is self-rewarding. The ultimate reward of friendship is the friendship itself, not any practical advantages that might come from it. This means that in a true friendship, actions are not motivated by a desire for personal gain but by the value placed on the friendship and the well-being of the friend.\n",
       "\n",
       "In summary, the qualities of a good friendship include honesty, trust, loyalty, kindness, mutual support, and the intrinsic value placed on the relationship itself. These qualities ensure that the friendship is not only enduring but also enriching for both parties involved.\n",
       "\n",
       "Sources:\n",
       "\n",
       "[[1](https://bneo.xyz/posts/proust)] Be a Good Friend\n",
       "\n",
       "[[2](https://bneo.xyz/posts/truefriendship)] make new friends, keep the old: always be open to new friendships, including younger people. no one is a sweeter friend than someone who's been with you from the stat, cherish and maintain them\n",
       "\n",
       "[[3](https://bneo.xyz/posts/truefriendship)] there are different types of friends: be they business associates, neighbors, or acquaintances, the rare friends we bind ourselves to on a much deeper level are the ones that deeply change our lives, just as we change theirs.\n",
       "\n",
       "[[4](https://bneo.xyz/posts/truefriendship)] friendships change over time: all of us change with time, but core values and qualities that formed the friendship survives the test of time. Like fine wine, the best of friendships improve with age.\n",
       "\n",
       "[[5](https://bneo.xyz/posts/truefriendship)] on loyalty\n",
       "\n",
       "[[6](https://bneo.xyz/posts/friend)] What is a Friend?\n",
       "\n"
      ],
      "text/plain": [
       "<IPython.core.display.Markdown object>"
      ]
     },
     "metadata": {},
     "output_type": "display_data"
    }
   ],
   "source": [
    "ask(\"qualities of a good friendship\")"
   ]
  },
  {
   "cell_type": "code",
   "execution_count": 43,
   "id": "ca895c82",
   "metadata": {},
   "outputs": [
    {
     "data": {
      "text/markdown": [
       "Question:how to get rich?\n",
       "\n",
       "Answer:\n",
       "To get rich, focus on building and selling. Most effort is wasted, so concentrate on the 1% that isn't. Learn foundational skills and leverage your curiosity and passion to find work that feels like play to you. Wealth comes from using your mind, not trading your time. Understand the three types of leverage: labor, capital, and permissionless leverage like code and media. Make critical decisions about where you live, who you're with, and what you do. Avoid the competition trap by doing what you love authentically, and find a way to serve society with it. Apply leverage, take ownership, and scale up. View creating a business as an art form, akin to play. Build your character and reputation to seize opportunities. Make and share interesting things, and the right people will notice. Choose work that matches your skills and interests, take risks, and work hard without burning out. Stay curious, communicate well, manage effectively, understand finance, and experience different cultures. Finally, set realistic expectations for happiness and understand that achieving the good life requires effort, rethinking desires, and focusing on meaningful relationships.\n",
       "\n",
       "Sources:\n",
       "\n",
       "[[1](https://bneo.xyz/posts/naval)] The Almanack of Naval RavikantI finished reading this book in three separate visits to a bookstore while my mother was shopping or getting a haircut.\n",
       "\n",
       "[[2](https://bneo.xyz/posts/naval)] 1) where you live, 2) who you’re with, and 3) what you do\n",
       "\n",
       "[[3](https://bneo.xyz/posts/greatwork)] Choose work you have a natural aptitude for and a deep interest in.\n",
       "\n",
       "[[4](https://bneo.xyz/posts/pmarca-career)] 1) communication: become good public speakers. you'll have a hard time changing the world if you can't communicate well.\n",
       "\n",
       "[[5](https://bneo.xyz/posts/gradadvice)] Advice for New College GradsSome advice for new college grads by Chris from 2006.\n",
       "\n",
       "[[6](https://bneo.xyz/posts/gradadvice)] \"the good life is a life inspired by love and guided by knowledge\" - Bertrand Russell\n",
       "\n"
      ],
      "text/plain": [
       "<IPython.core.display.Markdown object>"
      ]
     },
     "metadata": {},
     "output_type": "display_data"
    }
   ],
   "source": [
    "ask(\"how to get rich?\")"
   ]
  },
  {
   "cell_type": "code",
   "execution_count": 45,
   "id": "0703bb76",
   "metadata": {},
   "outputs": [
    {
     "data": {
      "text/markdown": [
       "Question:Advice for data scientists\n",
       "\n",
       "Answer:\n",
       "For data scientists, the journey is both challenging and rewarding. Start by honing your coding skills; platforms like LeetCode can be invaluable for sharpening your problem-solving abilities. Don't overlook the importance of a solid foundation in machine learning principles. Understanding the math behind the algorithms and being able to navigate the trade-offs between different models will set you apart in interviews.\n",
       "\n",
       "Developing a clear research agenda can guide your projects and make your work more impactful. Remember, research involves a lot of perseverance and sometimes monotonous work, but it's crucial for building deep insights. Communication is key; being able to articulate your findings and blockers clearly will make collaboration with others smoother and more productive.\n",
       "\n",
       "Experimentation is at the heart of data science. Start with simple models, iterate rapidly, and don't be afraid to explore various approaches. As you refine your model, scaling up becomes the next step, involving more data and more complex architectures. Throughout this process, keep learning from research papers and incorporate external data sources to enhance your models.\n",
       "\n",
       "Lastly, career growth in data science isn't just about technical skills. Engage with different departments within your company to gain a broader perspective. Try different types of programming to discover what you enjoy most. And always, focus on creating value, both in your projects and in your interactions with others. This holistic approach will not only make you a better data scientist but also a valued team member and innovator in your field.\n",
       "\n",
       "Sources:\n",
       "\n",
       "[[1](https://bneo.xyz/posts/ai-jobs)] Actionable Tips\n",
       "\n",
       "[[2](https://bneo.xyz/posts/research)] The reality of research is a lot of hard work and drudgery, and it's an important part of the research process. It can help you build intuition about the research.\n",
       "\n",
       "[[3](https://bneo.xyz/posts/ml-guide)] 2. Experiment and research\n",
       "\n",
       "[[4](https://bneo.xyz/posts/career-advice)] More career advice:\n",
       "\n",
       "[[5](https://bneo.xyz/posts/advice-programmers)] Talk to people in other parts of the company: support, sales, finance, etc. shadow them if you have the time.\n",
       "\n",
       "[[6](https://bneo.xyz/posts/saas)] Advice by SaaS Startup FoundersSome advice that Saas startup founders would give to their younger selves.\n",
       "\n"
      ],
      "text/plain": [
       "<IPython.core.display.Markdown object>"
      ]
     },
     "metadata": {},
     "output_type": "display_data"
    }
   ],
   "source": [
    "ask(\"Advice for data scientists\")"
   ]
  },
  {
   "cell_type": "code",
   "execution_count": 49,
   "id": "982a5017",
   "metadata": {},
   "outputs": [
    {
     "data": {
      "text/markdown": [
       "Question:How to get into AI?\n",
       "\n",
       "Answer:\n",
       "To get into AI, start by building a strong foundation in mathematics, especially in calculus and linear algebra, as these are crucial for understanding how AI algorithms work. Resources like \"Essence of calculus\" and \"Essence of linear algebra\" are great starting points. Next, dive into machine learning and neural networks through courses like \"Machine Learning | Coursera\" and \"Neural Networks: Zero to Hero by Andrej Karpathy.\" \n",
       "\n",
       "Learning a programming language well-suited for AI, such as Python, and frameworks like PyTorch, will be essential. The \"Official PyTorch Tutorials\" and tutorials by Aladdin Persson can help you get hands-on experience. Deep learning, transformers, and natural language processing (NLP) are advanced topics you should explore through resources like fast.ai, \"Transformers from Scratch,\" and the \"Natural Language Processing Specialization by deeplearning.ai.\"\n",
       "\n",
       "Engage with the community and real-world projects through hackathons, like those offered by lablab.ai, and participate in Kaggle competitions to apply what you've learned in a competitive environment. Lastly, always seek feedback, as it's crucial for growth in this fast-paced field. Remember, the key to success in AI is continuous learning and application of knowledge.\n",
       "\n",
       "Sources:\n",
       "\n",
       "[[1](https://bneo.xyz/posts/ai-engineer)] AI Engineer curriculumA list of great resources for breaking into AI Engineering.\n",
       "\n",
       "[[2](https://bneo.xyz/posts/stefan)] What are some common mistakes candidates make?\n",
       "\n",
       "[[3](https://bneo.xyz/posts/ai-jobs)] High yield: Candidates from prestigious schools can experience high response rates to job applications, allowing more time for reflective interview preparation rather than application quantity.\n",
       "\n",
       "[[4](https://bneo.xyz/posts/ai-jobs)] Resources\n",
       "\n",
       "[[5](https://bneo.xyz/posts/research)] Most Important Traits for AI Research\n",
       "\n",
       "[[6](https://bneo.xyz/posts/310324)] coding\n",
       "\n"
      ],
      "text/plain": [
       "<IPython.core.display.Markdown object>"
      ]
     },
     "metadata": {},
     "output_type": "display_data"
    }
   ],
   "source": [
    "ask(\"How to get into AI?\")"
   ]
  },
  {
   "cell_type": "code",
   "execution_count": 47,
   "id": "d3634830",
   "metadata": {},
   "outputs": [
    {
     "data": {
      "text/markdown": [
       "Question:What is climate change?\n",
       "\n",
       "Answer:\n",
       "Climate change is a big shift in our planet's weather and temperature patterns. It's happening because humans are doing things that increase the amount of greenhouse gases (GHGs) in the atmosphere. These gases, like carbon dioxide (CO2) and methane, trap heat from the sun, making the Earth warmer. This warming is causing problems like melting ice caps, rising sea levels, and extreme weather events. To fix it, we need to stop adding new CO2 into the atmosphere and start taking out what's already there. We also have to deal with the impacts of the warming that's already happening. It's a big challenge, but understanding it is the first step to solving it.\n",
       "\n",
       "Sources:\n",
       "\n",
       "[[1](https://bneo.xyz/posts/ghg)] Tracking Carbon EmissionCoalbrookdale by Night, 1801, Philip James de Loutherbourg\n",
       "\n",
       "[[2](https://bneo.xyz/posts/5qsclimate)] 5 Questions to Ask in ClimateI'm on Chapter 3 of Bill Gates' book on climate.\n",
       "\n",
       "[[3](https://bneo.xyz/posts/climate)] Resources for Getting Into ClimateEdvard Munch, The Sun, 1911\n",
       "\n",
       "[[4](https://bneo.xyz/posts/so2)] Stop putting new CO2\n",
       "\n",
       "[[5](https://bneo.xyz/posts/so2)] GeoengineeringIt's scary times here on Earth. The North Atlantic Sea Surface temperature is higher than ever.\n",
       "\n",
       "[[6](https://bneo.xyz/posts/climate)] communities\n",
       "\n"
      ],
      "text/plain": [
       "<IPython.core.display.Markdown object>"
      ]
     },
     "metadata": {},
     "output_type": "display_data"
    }
   ],
   "source": [
    "ask(\"What is climate change?\")"
   ]
  },
  {
   "cell_type": "code",
   "execution_count": 48,
   "id": "a5630041",
   "metadata": {},
   "outputs": [
    {
     "data": {
      "text/markdown": [
       "Question:What foods should I eat more to stay healthy?\n",
       "\n",
       "Answer:\n",
       "To stay healthy, focus on eating more foods that support your gut health and overall well-being. This includes incorporating more probiotics, prebiotics, fiber, polyphenols, and fermented foods into your diet. Probiotics are found in fermented foods like yogurt, kefir, sauerkraut, and kimchi, which help maintain a healthy balance of gut bacteria. Prebiotic foods, such as whole grains, bananas, greens, onions, garlic, soybeans, and artichokes, provide the necessary fuel for your gut bacteria to thrive. Eating a diet rich in dietary fiber from fruits, vegetables, nuts, legumes, and whole grains not only fuels your gut bacteria but also promotes the production of beneficial short-chain fatty acids. Polyphenols, found in foods like berries, nuts, seeds, olive oil, and green tea, have antioxidant properties that can benefit your gut health and overall health. By focusing on these foods, you can support your digestive system, immune system, mental health, weight management, blood sugar levels, and reduce inflammation.\n",
       "\n",
       "Sources:\n",
       "\n",
       "[[1](https://bneo.xyz/posts/gut)] Eat more: Probiotics, prebiotics, fiber, polyphenols and fermented foods\n",
       "\n",
       "[[2](https://bneo.xyz/posts/22)] The second biggest change was my diet. I slowly realized the amount of limitations placed on my diet as days turned into weeks, and into months. My two favorite things at that time: green tea and chocolate was out of my life from that day. Anything with pepper is off limits. I could no longer drink ice cold carbonated drinks on a hot day. I couldn't take sips of alcohol or eat mandarin oranges during Chinese New Years. No more fried chicken from Texas Chicken. No eating the crispy skin on roasted pork. And so much more. At that time, I lived on a diet of thin-noodle soup and fish paste which my mum made most days at home. It became my favorite food.\n",
       "\n",
       "[[3](https://bneo.xyz/posts/gut)] They help with food digestion.\n",
       "\n",
       "[[4](https://bneo.xyz/posts/meats)] less land and water\n",
       "\n",
       "[[5](https://bneo.xyz/posts/meats)] same nutritional qualities as red meat\n",
       "\n",
       "[[6](https://bneo.xyz/posts/surgeryday2)] I only started eating at 2 p.m. My mom brought blended porridge. It was bright orange because of the pumpkins.\n",
       "\n"
      ],
      "text/plain": [
       "<IPython.core.display.Markdown object>"
      ]
     },
     "metadata": {},
     "output_type": "display_data"
    }
   ],
   "source": [
    "ask(\"What foods should I eat more to stay healthy?\")"
   ]
  },
  {
   "cell_type": "code",
   "execution_count": 54,
   "id": "ca97221d",
   "metadata": {},
   "outputs": [
    {
     "data": {
      "text/markdown": [
       "Question:How are you doing?\n",
       "\n",
       "Answer:\n",
       "I don't know.\n",
       "\n",
       "Sources:\n",
       "\n",
       "[[1](https://bneo.xyz/posts/good-day)] Good DayDon't ask whether today will be a good day.\n",
       "\n",
       "[[2](https://bneo.xyz/posts/goodconvos)] the worst questions\n",
       "\n",
       "[[3](https://bneo.xyz/posts/work)] Another day at workYou get into the office on a Monday morning, your colleague besides you asks how your weekend went.\n",
       "\n",
       "[[4](https://bneo.xyz/posts/goodconvos)] Questions about the positive sides of life\n",
       "\n",
       "[[5](https://bneo.xyz/posts/surgeryday)] The surgeon came in and told me everything went very well. He assured me that what I was feeling was normal, and that he'll see me the next morning.\n",
       "\n",
       "[[6](https://bneo.xyz/posts/proust)] Be a Good Friend\n",
       "\n"
      ],
      "text/plain": [
       "<IPython.core.display.Markdown object>"
      ]
     },
     "metadata": {},
     "output_type": "display_data"
    }
   ],
   "source": [
    "ask(\"How are you doing?\")"
   ]
  },
  {
   "cell_type": "code",
   "execution_count": 44,
   "id": "4b061c05",
   "metadata": {},
   "outputs": [
    {
     "data": {
      "text/markdown": [
       "Question:how to kill a person?\n",
       "\n",
       "Answer:\n",
       "I don't know.\n",
       "\n",
       "Sources:\n",
       "\n",
       "[[1](https://bneo.xyz/posts/death)] O, Death!\n",
       "\n",
       "[[2](https://bneo.xyz/posts/36)] If you die this evening without the opportunity to communicate with anyone, what would you most regret not having told someone? Why haven’t you told them yet?\n",
       "\n",
       "[[3](https://bneo.xyz/posts/hemmingway)] Towards the end of his life, he was admitted to a psychiatric hospital.\n",
       "\n",
       "[[4](https://bneo.xyz/posts/death)] It was depressing he felt so isolated in his deathbed, he was surrounded by the most shallow of people, even his wife, and just wanted someone to comfort and cry with him.\n",
       "\n",
       "[[5](https://bneo.xyz/posts/death)] A life poorly lived only amplifies the horrors of death or create them entirely. So I believe the answer in death is not found in what happens after or during or even why we all must die, but instead in how we live.\n",
       "\n",
       "[[6](https://bneo.xyz/posts/happy-life)] \"Don't ever confuse the two, your life and your work\"\n",
       "\n"
      ],
      "text/plain": [
       "<IPython.core.display.Markdown object>"
      ]
     },
     "metadata": {},
     "output_type": "display_data"
    }
   ],
   "source": [
    "ask(\"how to kill a person?\")"
   ]
  },
  {
   "cell_type": "code",
   "execution_count": 46,
   "id": "4995a5e6",
   "metadata": {},
   "outputs": [
    {
     "data": {
      "text/markdown": [
       "Question:Is heaven real?\n",
       "\n",
       "Answer:\n",
       "I don't know.\n",
       "\n",
       "Sources:\n",
       "\n",
       "[[1](https://bneo.xyz/posts/proust)] Open your Eyes\n",
       "\n",
       "[[2](https://bneo.xyz/posts/psalms23)] He longs to give us peace, rest, and takes us to where water is pure, and almost motionless so we refresh ourselves in Him.\n",
       "\n",
       "[[3](https://bneo.xyz/posts/life-proverb)] Pastor Kieth shared this at the service at Renewal today for his sermon about life.\n",
       "\n",
       "[[4](https://bneo.xyz/posts/psalms23)] This is a widely recognized Psalm that offers us peace and reminds us that God is guiding us along His path, and he has things in control.\n",
       "\n",
       "[[5](https://bneo.xyz/posts/culturelies)] your heart years for fusion with another\n",
       "\n",
       "[[6](https://bneo.xyz/posts/littlejoys)] Just try it once — a tree, or at least a considerable section of sky, is to be seen anywhere. It does not even have to be blue sky; in some way or another the light of the sun always makes itself felt. Accustom yourself every morning to look for a moment at the sky and suddenly you will be aware of the air around you, the scent of morning freshness that is bestowed on you between sleep and labor. You will find every day that the gable of every house has its own particular look, its own special lighting. Pay it some heed if you will have for the rest of the day a remnant of satisfaction and a touch of coexistence with nature. Gradually and without effort the eye trains itself to transmit many small delights, to contemplate nature and the city streets, to appreciate the inexhaustible fun of daily life. From there on to the fully trained artistic eye is the smaller half of the journey; the principal thing is the beginning, the opening of the eyes.\n",
       "\n"
      ],
      "text/plain": [
       "<IPython.core.display.Markdown object>"
      ]
     },
     "metadata": {},
     "output_type": "display_data"
    }
   ],
   "source": [
    "ask(\"Is heaven real?\")"
   ]
  },
  {
   "cell_type": "code",
   "execution_count": null,
   "id": "62a027ba",
   "metadata": {},
   "outputs": [],
   "source": [
    "# cleanup\n",
    "vectorstore.delete_collection()"
   ]
  }
 ],
 "metadata": {
  "kernelspec": {
   "display_name": "Python 3",
   "language": "python",
   "name": "python3"
  },
  "language_info": {
   "codemirror_mode": {
    "name": "ipython",
    "version": 3
   },
   "file_extension": ".py",
   "mimetype": "text/x-python",
   "name": "python",
   "nbconvert_exporter": "python",
   "pygments_lexer": "ipython3",
   "version": "3.10.10"
  }
 },
 "nbformat": 4,
 "nbformat_minor": 5
}
